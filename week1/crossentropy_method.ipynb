{
 "cells": [
  {
   "cell_type": "markdown",
   "metadata": {},
   "source": [
    "# Crossentropy method\n",
    "\n",
    "This notebook will teach you to solve reinforcement learning with crossentropy method."
   ]
  },
  {
   "cell_type": "code",
   "execution_count": null,
   "metadata": {
    "collapsed": false
   },
   "outputs": [],
   "source": [
    "#XVFB will be launched if you run on a server\n",
    "import os\n",
    "if type(os.environ.get(\"DISPLAY\")) is not str or len(os.environ.get(\"DISPLAY\"))==0:\n",
    "    !bash ../xvfb start\n",
    "    %env DISPLAY=:1"
   ]
  },
  {
   "cell_type": "code",
   "execution_count": 1,
   "metadata": {
    "collapsed": false
   },
   "outputs": [
    {
     "name": "stderr",
     "output_type": "stream",
     "text": [
      "[2017-02-25 11:45:59,616] Making new env: Taxi-v2\n"
     ]
    },
    {
     "name": "stdout",
     "output_type": "stream",
     "text": [
      "+---------+\n",
      "|\u001b[35mR\u001b[0m: | : :G|\n",
      "| : : : : |\n",
      "| : : : : |\n",
      "|\u001b[43m \u001b[0m| : | : |\n",
      "|\u001b[34;1mY\u001b[0m| : |B: |\n",
      "+---------+\n",
      "\n"
     ]
    }
   ],
   "source": [
    "import gym\n",
    "import numpy as np, pandas as pd\n",
    "\n",
    "env = gym.make(\"Taxi-v2\")\n",
    "env.reset()\n",
    "env.render()"
   ]
  },
  {
   "cell_type": "code",
   "execution_count": 2,
   "metadata": {
    "collapsed": false
   },
   "outputs": [
    {
     "name": "stdout",
     "output_type": "stream",
     "text": [
      "n_states=500, n_actions=6\n"
     ]
    }
   ],
   "source": [
    "n_states = env.observation_space.n\n",
    "n_actions = env.action_space.n\n",
    "\n",
    "print(\"n_states=%i, n_actions=%i\"%(n_states,n_actions))"
   ]
  },
  {
   "cell_type": "markdown",
   "metadata": {},
   "source": [
    "# Create stochastic policy\n",
    "\n",
    "This time our policy should be a probability distribution.\n",
    "\n",
    "```policy[s,a] = P(take action a | in state s)```\n",
    "\n",
    "Since we still use integer state and action representations, you can use a 2-dimensional array to represent the policy.\n",
    "\n",
    "Please initialize policy __uniformly__, that is, probabililities of all actions should be equal.\n"
   ]
  },
  {
   "cell_type": "code",
   "execution_count": 13,
   "metadata": {
    "collapsed": false
   },
   "outputs": [],
   "source": [
    "policy = 1 / n_actions * np.ones((n_states, n_actions))"
   ]
  },
  {
   "cell_type": "code",
   "execution_count": 14,
   "metadata": {
    "collapsed": true
   },
   "outputs": [],
   "source": [
    "assert type(policy) in (np.ndarray,np.matrix)\n",
    "assert np.allclose(policy,1./n_actions)\n",
    "assert np.allclose(np.sum(policy,axis=1), 1)"
   ]
  },
  {
   "cell_type": "markdown",
   "metadata": {},
   "source": [
    "# Play the game\n",
    "\n",
    "Just like before, but we also record all states and actions we took."
   ]
  },
  {
   "cell_type": "code",
   "execution_count": 15,
   "metadata": {
    "collapsed": false
   },
   "outputs": [],
   "source": [
    "def generate_session(t_max=10**4):\n",
    "    \"\"\"\n",
    "    Play game until end or for t_max ticks.\n",
    "    returns: list of states, list of actions and sum of rewards\n",
    "    \"\"\"\n",
    "    states, actions = [],[]\n",
    "    total_reward = 0.\n",
    "    \n",
    "    s = env.reset()\n",
    "    \n",
    "    for t in range(t_max):\n",
    "        \n",
    "        a = np.random.choice(n_actions, p=policy[s])\n",
    "        new_s, r, done, info = env.step(a)\n",
    "        \n",
    "        states.append(s)\n",
    "        actions.append(a)\n",
    "        total_reward += r\n",
    "        \n",
    "        s = new_s\n",
    "        if done:\n",
    "            break\n",
    "            \n",
    "    return states,actions,total_reward  "
   ]
  },
  {
   "cell_type": "code",
   "execution_count": 16,
   "metadata": {
    "collapsed": false
   },
   "outputs": [],
   "source": [
    "s,a,r = generate_session()\n",
    "assert type(s) == type(a) == list\n",
    "assert len(s) == len(a)\n",
    "assert type(r) is float"
   ]
  },
  {
   "cell_type": "markdown",
   "metadata": {},
   "source": [
    "# Training loop\n",
    "Generate sessions, select N best and fit to those."
   ]
  },
  {
   "cell_type": "code",
   "execution_count": 17,
   "metadata": {
    "collapsed": false
   },
   "outputs": [
    {
     "name": "stdout",
     "output_type": "stream",
     "text": [
      "step 0: mean reward = -769.53700\tthreshold = -866.0\n",
      "step 1: mean reward = -757.61100\tthreshold = -857.0\n",
      "step 2: mean reward = -754.54300\tthreshold = -848.0\n",
      "step 3: mean reward = -750.21450\tthreshold = -839.0\n",
      "step 4: mean reward = -742.53650\tthreshold = -839.0\n",
      "step 5: mean reward = -730.02550\tthreshold = -830.0\n",
      "step 6: mean reward = -725.60950\tthreshold = -821.0\n",
      "step 7: mean reward = -713.89150\tthreshold = -812.0\n",
      "step 8: mean reward = -707.64750\tthreshold = -812.0\n",
      "step 9: mean reward = -700.03950\tthreshold = -794.0\n",
      "step 10: mean reward = -690.34950\tthreshold = -794.0\n",
      "step 11: mean reward = -684.78450\tthreshold = -785.0\n",
      "step 12: mean reward = -678.38250\tthreshold = -776.0\n",
      "step 13: mean reward = -666.81150\tthreshold = -776.0\n",
      "step 14: mean reward = -662.07950\tthreshold = -767.0\n",
      "step 15: mean reward = -656.63150\tthreshold = -758.0\n",
      "step 16: mean reward = -642.82900\tthreshold = -749.0\n",
      "step 17: mean reward = -639.53250\tthreshold = -740.0\n",
      "step 18: mean reward = -629.36550\tthreshold = -740.0\n",
      "step 19: mean reward = -618.89200\tthreshold = -731.0\n",
      "step 20: mean reward = -615.36950\tthreshold = -722.0\n",
      "step 21: mean reward = -602.21550\tthreshold = -713.0\n",
      "step 22: mean reward = -598.82150\tthreshold = -704.0\n",
      "step 23: mean reward = -592.90050\tthreshold = -704.0\n",
      "step 24: mean reward = -581.40700\tthreshold = -695.0\n",
      "step 25: mean reward = -576.50200\tthreshold = -686.0\n",
      "step 26: mean reward = -565.74150\tthreshold = -677.0\n",
      "step 27: mean reward = -551.55500\tthreshold = -668.0\n",
      "step 28: mean reward = -544.04500\tthreshold = -668.0\n",
      "step 29: mean reward = -537.26350\tthreshold = -650.0\n",
      "step 30: mean reward = -522.16200\tthreshold = -641.0\n",
      "step 31: mean reward = -519.80900\tthreshold = -632.0\n",
      "step 32: mean reward = -501.76900\tthreshold = -632.0\n",
      "step 33: mean reward = -500.02050\tthreshold = -623.0\n",
      "step 34: mean reward = -492.89150\tthreshold = -614.0\n",
      "step 35: mean reward = -483.36100\tthreshold = -614.0\n",
      "step 36: mean reward = -473.76900\tthreshold = -605.0\n",
      "step 37: mean reward = -471.70150\tthreshold = -596.0\n",
      "step 38: mean reward = -454.57350\tthreshold = -587.0\n",
      "step 39: mean reward = -442.05350\tthreshold = -578.0\n",
      "step 40: mean reward = -438.44300\tthreshold = -578.0\n",
      "step 41: mean reward = -432.28200\tthreshold = -569.0\n",
      "step 42: mean reward = -417.95200\tthreshold = -560.0\n",
      "step 43: mean reward = -414.54300\tthreshold = -551.0\n",
      "step 44: mean reward = -401.47350\tthreshold = -542.0\n",
      "step 45: mean reward = -397.61250\tthreshold = -533.0\n",
      "step 46: mean reward = -386.67300\tthreshold = -533.0\n",
      "step 47: mean reward = -378.03950\tthreshold = -524.0\n",
      "step 48: mean reward = -365.55700\tthreshold = -515.0\n",
      "step 49: mean reward = -356.26200\tthreshold = -506.0\n",
      "step 50: mean reward = -348.52050\tthreshold = -497.0\n",
      "step 51: mean reward = -336.82850\tthreshold = -497.0\n",
      "step 52: mean reward = -331.69800\tthreshold = -488.0\n",
      "step 53: mean reward = -319.24850\tthreshold = -479.0\n",
      "step 54: mean reward = -313.14400\tthreshold = -470.0\n",
      "step 55: mean reward = -294.33850\tthreshold = -461.0\n",
      "step 56: mean reward = -288.83300\tthreshold = -452.0\n",
      "step 57: mean reward = -281.43200\tthreshold = -452.0\n",
      "step 58: mean reward = -262.06250\tthreshold = -434.0\n",
      "step 59: mean reward = -252.07750\tthreshold = -425.0\n",
      "step 60: mean reward = -243.53650\tthreshold = -416.0\n",
      "step 61: mean reward = -227.19100\tthreshold = -398.0\n",
      "step 62: mean reward = -212.63200\tthreshold = -389.0\n",
      "step 63: mean reward = -206.21400\tthreshold = -380.0\n",
      "step 64: mean reward = -190.35050\tthreshold = -362.0\n",
      "step 65: mean reward = -178.02550\tthreshold = -335.0\n",
      "step 66: mean reward = -160.00350\tthreshold = -317.0\n",
      "step 67: mean reward = -144.69450\tthreshold = -276.0\n",
      "step 68: mean reward = -133.21950\tthreshold = -256.1\n",
      "step 69: mean reward = -122.85200\tthreshold = -226.1\n",
      "step 70: mean reward = -112.36850\tthreshold = -207.0\n",
      "step 71: mean reward = -103.59300\tthreshold = -190.0\n",
      "step 72: mean reward = -96.18600\tthreshold = -173.1\n",
      "step 73: mean reward = -85.90300\tthreshold = -158.0\n",
      "step 74: mean reward = -78.53850\tthreshold = -145.0\n",
      "step 75: mean reward = -71.20500\tthreshold = -134.1\n",
      "step 76: mean reward = -66.15150\tthreshold = -125.1\n",
      "step 77: mean reward = -60.76550\tthreshold = -112.0\n",
      "step 78: mean reward = -55.76850\tthreshold = -104.1\n",
      "step 79: mean reward = -49.18650\tthreshold = -92.0\n",
      "step 80: mean reward = -46.10250\tthreshold = -89.0\n",
      "step 81: mean reward = -41.90500\tthreshold = -82.0\n",
      "step 82: mean reward = -37.36800\tthreshold = -74.0\n",
      "step 83: mean reward = -32.60100\tthreshold = -64.0\n",
      "step 84: mean reward = -29.42400\tthreshold = -60.0\n",
      "step 85: mean reward = -26.39850\tthreshold = -55.0\n",
      "step 86: mean reward = -23.81750\tthreshold = -52.0\n",
      "step 87: mean reward = -20.52800\tthreshold = -46.0\n",
      "step 88: mean reward = -18.06200\tthreshold = -40.0\n",
      "step 89: mean reward = -15.51600\tthreshold = -36.0\n",
      "step 90: mean reward = -13.80400\tthreshold = -34.0\n",
      "step 91: mean reward = -11.77550\tthreshold = -30.0\n",
      "step 92: mean reward = -10.44100\tthreshold = -28.0\n",
      "step 93: mean reward = -8.81650\tthreshold = -26.0\n",
      "step 94: mean reward = -7.13900\tthreshold = -22.0\n",
      "step 95: mean reward = -5.63050\tthreshold = -19.0\n",
      "step 96: mean reward = -4.16050\tthreshold = -17.0\n",
      "step 97: mean reward = -2.98750\tthreshold = -15.0\n",
      "step 98: mean reward = -1.57850\tthreshold = -12.0\n",
      "step 99: mean reward = -0.92050\tthreshold = -11.0\n",
      "step 100: mean reward = -0.19850\tthreshold = -9.0\n",
      "step 101: mean reward = 0.57750\tthreshold = -8.0\n",
      "step 102: mean reward = 1.27150\tthreshold = -6.0\n",
      "step 103: mean reward = 1.83200\tthreshold = -5.0\n",
      "step 104: mean reward = 2.60600\tthreshold = -4.0\n",
      "step 105: mean reward = 2.84350\tthreshold = -4.0\n",
      "step 106: mean reward = 3.37600\tthreshold = -3.0\n",
      "step 107: mean reward = 3.79400\tthreshold = -2.0\n",
      "step 108: mean reward = 3.97450\tthreshold = -1.0\n",
      "step 109: mean reward = 4.36850\tthreshold = 0.0\n",
      "step 110: mean reward = 4.86600\tthreshold = 0.0\n",
      "step 111: mean reward = 5.07450\tthreshold = 0.0\n",
      "step 112: mean reward = 5.35300\tthreshold = 1.0\n",
      "step 113: mean reward = 5.58400\tthreshold = 1.0\n",
      "step 114: mean reward = 5.66900\tthreshold = 1.0\n",
      "step 115: mean reward = 5.89400\tthreshold = 2.0\n",
      "step 116: mean reward = 5.92300\tthreshold = 2.0\n",
      "step 117: mean reward = 6.01450\tthreshold = 2.0\n",
      "step 118: mean reward = 6.34500\tthreshold = 3.0\n",
      "step 119: mean reward = 6.50200\tthreshold = 3.0\n",
      "step 120: mean reward = 6.69250\tthreshold = 3.0\n",
      "step 121: mean reward = 6.78300\tthreshold = 3.0\n",
      "step 122: mean reward = 6.94600\tthreshold = 4.0\n",
      "step 123: mean reward = 6.77450\tthreshold = 4.0\n",
      "step 124: mean reward = 7.07650\tthreshold = 4.0\n",
      "step 125: mean reward = 6.96150\tthreshold = 4.0\n",
      "step 126: mean reward = 7.01750\tthreshold = 4.0\n",
      "step 127: mean reward = 7.05150\tthreshold = 4.0\n",
      "step 128: mean reward = 7.36250\tthreshold = 4.0\n",
      "step 129: mean reward = 7.44350\tthreshold = 4.0\n",
      "step 130: mean reward = 7.30800\tthreshold = 5.0\n",
      "step 131: mean reward = 6.91600\tthreshold = 4.0\n",
      "step 132: mean reward = 7.42800\tthreshold = 5.0\n",
      "step 133: mean reward = 7.29750\tthreshold = 5.0\n",
      "step 134: mean reward = 7.11300\tthreshold = 5.0\n",
      "step 135: mean reward = 6.99700\tthreshold = 5.0\n",
      "step 136: mean reward = 6.79000\tthreshold = 5.0\n",
      "step 137: mean reward = 6.82850\tthreshold = 5.0\n",
      "step 138: mean reward = 7.04850\tthreshold = 5.0\n",
      "step 139: mean reward = 6.84750\tthreshold = 5.0\n",
      "step 140: mean reward = 7.12600\tthreshold = 5.0\n",
      "step 141: mean reward = 7.30950\tthreshold = 5.0\n",
      "step 142: mean reward = 7.11400\tthreshold = 5.0\n",
      "step 143: mean reward = 6.99100\tthreshold = 5.0\n",
      "step 144: mean reward = 7.11800\tthreshold = 5.0\n",
      "step 145: mean reward = 7.09900\tthreshold = 5.0\n",
      "step 146: mean reward = 6.90750\tthreshold = 5.0\n",
      "step 147: mean reward = 7.45200\tthreshold = 5.0\n",
      "step 148: mean reward = 7.09700\tthreshold = 5.0\n",
      "step 149: mean reward = 7.14550\tthreshold = 5.0\n",
      "step 150: mean reward = 6.79700\tthreshold = 5.0\n",
      "step 151: mean reward = 7.27300\tthreshold = 5.0\n",
      "step 152: mean reward = 6.23150\tthreshold = 5.0\n",
      "step 153: mean reward = 7.21950\tthreshold = 5.0\n",
      "step 154: mean reward = 6.78600\tthreshold = 5.0\n",
      "step 155: mean reward = 7.17700\tthreshold = 5.0\n",
      "step 156: mean reward = 7.35950\tthreshold = 5.0\n",
      "step 157: mean reward = 7.22750\tthreshold = 5.0\n",
      "step 158: mean reward = 7.24650\tthreshold = 5.0\n",
      "step 159: mean reward = 7.08250\tthreshold = 5.0\n",
      "step 160: mean reward = 7.08450\tthreshold = 5.0\n",
      "step 161: mean reward = 7.36700\tthreshold = 5.0\n",
      "step 162: mean reward = 7.28150\tthreshold = 5.0\n",
      "step 163: mean reward = 7.12500\tthreshold = 5.0\n",
      "step 164: mean reward = 7.74800\tthreshold = 5.0\n",
      "step 165: mean reward = 7.38300\tthreshold = 5.0\n",
      "step 166: mean reward = 7.34700\tthreshold = 5.0\n",
      "step 167: mean reward = 7.45050\tthreshold = 5.0\n",
      "step 168: mean reward = 7.15400\tthreshold = 5.0\n",
      "step 169: mean reward = 7.05600\tthreshold = 5.0\n",
      "step 170: mean reward = 7.11100\tthreshold = 5.0\n",
      "step 171: mean reward = 6.96550\tthreshold = 5.0\n",
      "step 172: mean reward = 7.12050\tthreshold = 5.0\n",
      "step 173: mean reward = 7.32750\tthreshold = 5.0\n",
      "step 174: mean reward = 7.09500\tthreshold = 5.0\n",
      "step 175: mean reward = 7.08450\tthreshold = 5.0\n",
      "step 176: mean reward = 7.30700\tthreshold = 5.0\n",
      "step 177: mean reward = 7.33800\tthreshold = 5.0\n",
      "step 178: mean reward = 6.62550\tthreshold = 5.0\n",
      "step 179: mean reward = 6.64750\tthreshold = 5.0\n",
      "step 180: mean reward = 7.43600\tthreshold = 5.0\n",
      "step 181: mean reward = 7.39050\tthreshold = 5.0\n",
      "step 182: mean reward = 6.85750\tthreshold = 5.0\n",
      "step 183: mean reward = 6.99600\tthreshold = 5.0\n",
      "step 184: mean reward = 7.16000\tthreshold = 5.0\n",
      "step 185: mean reward = 7.09100\tthreshold = 5.0\n",
      "step 186: mean reward = 7.45200\tthreshold = 5.0\n",
      "step 187: mean reward = 7.00000\tthreshold = 5.0\n",
      "step 188: mean reward = 7.14750\tthreshold = 5.0\n",
      "step 189: mean reward = 7.31750\tthreshold = 5.0\n",
      "step 190: mean reward = 7.18250\tthreshold = 5.0\n",
      "step 191: mean reward = 7.55800\tthreshold = 5.0\n",
      "step 192: mean reward = 6.61900\tthreshold = 5.0\n",
      "step 193: mean reward = 7.05900\tthreshold = 5.0\n",
      "step 194: mean reward = 7.28900\tthreshold = 5.0\n",
      "step 195: mean reward = 7.52850\tthreshold = 5.0\n",
      "step 196: mean reward = 7.70100\tthreshold = 5.0\n",
      "step 197: mean reward = 7.23750\tthreshold = 5.0\n",
      "step 198: mean reward = 7.22400\tthreshold = 5.0\n",
      "step 199: mean reward = 7.35650\tthreshold = 5.0\n"
     ]
    }
   ],
   "source": [
    "import seaborn as sns\n",
    "import matplotlib.pyplot as plt\n",
    "%matplotlib inline\n",
    "\n",
    "n_samples = 2000  #sample this many samples\n",
    "percentile = 10  #take this percent of session with highest rewards\n",
    "smoothing = 1e-6  #add this thing to all counts for stability\n",
    "plot_dist = False\n",
    "\n",
    "for i in range(200):\n",
    "    \n",
    "    sessions = [generate_session() for _ in range(n_samples)]\n",
    "\n",
    "    batch_states, batch_actions, batch_rewards = map(np.array, zip(*sessions))\n",
    "\n",
    "    #batch_states: a list of lists of states in each session\n",
    "    #batch_actions: a list of lists of actions in each session\n",
    "    #batch_rewards: a list of floats - total rewards at each session\n",
    "    \n",
    "    threshold = np.percentile(batch_rewards, percentile)\n",
    "    \n",
    "    elite_states = batch_states[batch_rewards >= threshold]\n",
    "    elite_actions = batch_actions[batch_rewards >= threshold]\n",
    "    \n",
    "    elite_states, elite_actions = map(np.concatenate, [elite_states, elite_actions])\n",
    "    #hint on task above: use np.percentile and numpy-style indexing\n",
    "    \n",
    "    #count actions from elite states\n",
    "    elite_counts = np.zeros_like(policy) + smoothing\n",
    "    \n",
    "    for j in range(len(elite_states)):\n",
    "        elite_counts[elite_states[j], elite_actions[j]] += 1\n",
    "\n",
    "    a = 0.6\n",
    "    policy = (1 - a) * policy + a * elite_counts / elite_counts.sum(axis=1, keepdims=True)\n",
    "    \n",
    "    print(\"step %i: mean reward = %.5f\\tthreshold = %.1f\"%(i, np.mean(batch_rewards), threshold))\n",
    "    \n",
    "    if plot_dist:\n",
    "        sns.distplot(batch_rewards)\n",
    "        plt.xlabel('reward')\n",
    "        plt.plot(threshold, 0, 'ro')\n",
    "        plt.show()"
   ]
  },
  {
   "cell_type": "code",
   "execution_count": 19,
   "metadata": {
    "collapsed": false
   },
   "outputs": [
    {
     "data": {
      "image/png": "[encoded data removed]",
      "text/plain": [
       "<matplotlib.figure.Figure at 0x7f952806d080>"
      ]
     },
     "metadata": {},
     "output_type": "display_data"
    }
   ],
   "source": [
    "sns.distplot(batch_rewards)\n",
    "plt.xlabel('reward')\n",
    "plt.plot(threshold, 0, 'ro')\n",
    "plt.show()"
   ]
  },
  {
   "cell_type": "markdown",
   "metadata": {},
   "source": [
    "# Approximate (deep) crossentropy method\n",
    "\n",
    "In this section we will train a neural network policy for continuous action space game"
   ]
  },
  {
   "cell_type": "code",
   "execution_count": 13,
   "metadata": {
    "collapsed": false
   },
   "outputs": [
    {
     "name": "stderr",
     "output_type": "stream",
     "text": [
      "[2017-02-25 10:01:00,582] Making new env: CartPole-v0\n"
     ]
    },
    {
     "data": {
      "text/plain": [
       "<matplotlib.image.AxesImage at 0x7fa9cc0daa58>"
      ]
     },
     "execution_count": 13,
     "metadata": {},
     "output_type": "execute_result"
    },
    {
     "data": {
      "image/png": "[encoded data removed]",
      "text/plain": [
       "<matplotlib.figure.Figure at 0x7fa9cc1c6128>"
      ]
     },
     "metadata": {},
     "output_type": "display_data"
    }
   ],
   "source": [
    "import matplotlib.pyplot as plt\n",
    "%matplotlib inline\n",
    "\n",
    "env = gym.make(\"CartPole-v0\")\n",
    "env.reset()\n",
    "n_actions = env.action_space.n\n",
    "\n",
    "plt.imshow(env.render(\"rgb_array\"))"
   ]
  },
  {
   "cell_type": "code",
   "execution_count": 14,
   "metadata": {
    "collapsed": false
   },
   "outputs": [
    {
     "name": "stderr",
     "output_type": "stream",
     "text": [
      "[2017-02-25 10:01:05,455] Finished writing results. You can upload them to the scoreboard via gym.upload('/home/golovanov/repo/git/Practical_RL/week1/videos')\n",
      "/usr/local/lib/python3.4/dist-packages/sklearn/neural_network/multilayer_perceptron.py:563: ConvergenceWarning: Stochastic Optimizer: Maximum iterations reached and the optimization hasn't converged yet.\n",
      "  % (), ConvergenceWarning)\n"
     ]
    }
   ],
   "source": [
    "#create agent\n",
    "from sklearn.neural_network import MLPClassifier\n",
    "agent = MLPClassifier(hidden_layer_sizes=(32, 16, 16),\n",
    "                      activation='relu',\n",
    "                      warm_start=True, #keep progress between .fit(...) calls\n",
    "                      max_iter=1 #make only 1 iteration on each .fit(...)\n",
    "                     )\n",
    "#initialize agent to the dimension of state an amount of actions\n",
    "agent.fit([env.reset()] * n_actions, range(n_actions));\n"
   ]
  },
  {
   "cell_type": "code",
   "execution_count": 15,
   "metadata": {
    "collapsed": false
   },
   "outputs": [],
   "source": [
    "def generate_session(t_max=1000):\n",
    "    \n",
    "    states, actions = [], []\n",
    "    total_reward = 0\n",
    "    \n",
    "    s = env.reset()\n",
    "    \n",
    "    for t in range(t_max):\n",
    "        \n",
    "        #predict array of action probabilities\n",
    "        probs = agent.predict_proba([s])[0]\n",
    "        a = np.random.choice(n_actions, p=probs)\n",
    "        \n",
    "        new_s, r, done, info = env.step(a)\n",
    "        \n",
    "        #record sessions like you did before\n",
    "        states.append(s)\n",
    "        actions.append(a)\n",
    "        total_reward += r\n",
    "        \n",
    "        s = new_s\n",
    "        if done: \n",
    "            break\n",
    "            \n",
    "    return states, actions, total_reward\n",
    "        "
   ]
  },
  {
   "cell_type": "code",
   "execution_count": 16,
   "metadata": {
    "collapsed": false
   },
   "outputs": [
    {
     "name": "stdout",
     "output_type": "stream",
     "text": [
      "step 0: mean reward = 19.07000\tthreshold = 17.0\n",
      "step 1: mean reward = 20.56000\tthreshold = 17.0\n",
      "step 2: mean reward = 20.16000\tthreshold = 18.0\n",
      "step 3: mean reward = 24.64000\tthreshold = 18.0\n",
      "step 4: mean reward = 25.58000\tthreshold = 18.0\n",
      "step 5: mean reward = 24.84000\tthreshold = 19.0\n",
      "step 6: mean reward = 32.14000\tthreshold = 21.0\n",
      "step 7: mean reward = 26.14000\tthreshold = 20.0\n",
      "step 8: mean reward = 28.06000\tthreshold = 22.0\n",
      "step 9: mean reward = 29.40000\tthreshold = 23.0\n",
      "step 10: mean reward = 42.32000\tthreshold = 25.0\n",
      "step 11: mean reward = 49.20000\tthreshold = 25.5\n",
      "step 12: mean reward = 38.07000\tthreshold = 29.0\n",
      "step 13: mean reward = 41.49000\tthreshold = 33.0\n",
      "step 14: mean reward = 50.61000\tthreshold = 39.0\n",
      "step 15: mean reward = 60.22000\tthreshold = 40.0\n",
      "step 16: mean reward = 54.53000\tthreshold = 40.0\n",
      "step 17: mean reward = 80.18000\tthreshold = 45.5\n",
      "step 18: mean reward = 79.54000\tthreshold = 49.0\n",
      "step 19: mean reward = 88.09000\tthreshold = 59.0\n",
      "step 20: mean reward = 81.67000\tthreshold = 61.0\n",
      "step 21: mean reward = 91.58000\tthreshold = 72.0\n",
      "step 22: mean reward = 112.88000\tthreshold = 81.0\n",
      "step 23: mean reward = 100.97000\tthreshold = 88.0\n",
      "step 24: mean reward = 117.73000\tthreshold = 93.0\n",
      "step 25: mean reward = 139.44000\tthreshold = 106.0\n",
      "step 26: mean reward = 144.05000\tthreshold = 117.0\n",
      "step 27: mean reward = 154.35000\tthreshold = 133.0\n",
      "step 28: mean reward = 176.91000\tthreshold = 157.0\n",
      "step 29: mean reward = 162.61000\tthreshold = 166.0\n",
      "step 30: mean reward = 164.44000\tthreshold = 171.0\n",
      "step 31: mean reward = 172.92000\tthreshold = 186.5\n",
      "step 32: mean reward = 165.94000\tthreshold = 196.0\n",
      "step 33: mean reward = 186.30000\tthreshold = 198.0\n",
      "step 34: mean reward = 196.52000\tthreshold = 200.0\n",
      "step 35: mean reward = 194.20000\tthreshold = 200.0\n",
      "step 36: mean reward = 192.15000\tthreshold = 200.0\n",
      "step 37: mean reward = 195.32000\tthreshold = 200.0\n",
      "step 38: mean reward = 200.00000\tthreshold = 200.0\n",
      "step 39: mean reward = 198.14000\tthreshold = 200.0\n",
      "step 40: mean reward = 197.56000\tthreshold = 200.0\n",
      "step 41: mean reward = 192.00000\tthreshold = 200.0\n",
      "step 42: mean reward = 188.40000\tthreshold = 200.0\n",
      "step 43: mean reward = 192.29000\tthreshold = 200.0\n",
      "step 44: mean reward = 198.24000\tthreshold = 200.0\n",
      "step 45: mean reward = 195.92000\tthreshold = 200.0\n",
      "step 46: mean reward = 189.38000\tthreshold = 200.0\n",
      "step 47: mean reward = 199.92000\tthreshold = 200.0\n",
      "step 48: mean reward = 200.00000\tthreshold = 200.0\n",
      "step 49: mean reward = 200.00000\tthreshold = 200.0\n"
     ]
    }
   ],
   "source": [
    "from joblib import Parallel, delayed\n",
    "from collections import deque\n",
    "from functools import reduce\n",
    "\n",
    "n_samples = 100\n",
    "percentile = 50\n",
    "\n",
    "history_size = 5\n",
    "history_states = deque(maxlen=history_size)\n",
    "history_actions = deque(maxlen=history_size)\n",
    "history_rewards = deque(maxlen=history_size)\n",
    "\n",
    "for i in range(50):\n",
    "    sessions = Parallel(n_jobs=4)(delayed(generate_session)() for _ in range(n_samples))\n",
    "\n",
    "    batch_states, batch_actions, batch_rewards = zip(*sessions)\n",
    "    \n",
    "    history_states.append(batch_states)\n",
    "    history_actions.append(batch_actions)\n",
    "    history_rewards.append(batch_rewards)\n",
    "\n",
    "    states = np.array(reduce(lambda x, y: tuple(x) + tuple(y), history_states))\n",
    "    actions = np.array(reduce(lambda x, y: tuple(x) + tuple(y), history_actions))\n",
    "    rewards = np.concatenate(history_rewards)\n",
    "\n",
    "    threshold = np.percentile(rewards, percentile)\n",
    "    \n",
    "    elite_states = states[rewards >= threshold]\n",
    "    elite_actions = actions[rewards >= threshold]\n",
    "    \n",
    "    elite_states, elite_actions = map(np.concatenate, [elite_states, elite_actions])\n",
    "    \n",
    "    agent.fit(elite_states, elite_actions)\n",
    "\n",
    "    print(\"step %i: mean reward = %.5f\\tthreshold = %.1f\"%(i, np.mean(batch_rewards), threshold))"
   ]
  },
  {
   "cell_type": "markdown",
   "metadata": {},
   "source": [
    "Залил на gym: https://gym.openai.com/evaluations/eval_Z6aBP14TSKjnNL4TVM4iA"
   ]
  },
  {
   "cell_type": "code",
   "execution_count": 2,
   "metadata": {
    "collapsed": false
   },
   "outputs": [
    {
     "name": "stderr",
     "output_type": "stream",
     "text": [
      "[2017-02-25 11:46:07,555] Making new env: LunarLander-v2\n",
      "/usr/local/lib/python3.4/dist-packages/sklearn/neural_network/multilayer_perceptron.py:563: ConvergenceWarning: Stochastic Optimizer: Maximum iterations reached and the optimization hasn't converged yet.\n",
      "  % (), ConvergenceWarning)\n"
     ]
    },
    {
     "name": "stdout",
     "output_type": "stream",
     "text": [
      "step 0: mean reward = -207.85678\tthreshold = -172.7\n",
      "step 1: mean reward = -210.41084\tthreshold = -175.1\n",
      "step 2: mean reward = -184.94995\tthreshold = -171.8\n",
      "step 3: mean reward = -172.79960\tthreshold = -168.1\n",
      "step 4: mean reward = -143.52976\tthreshold = -157.0\n",
      "step 5: mean reward = -146.76919\tthreshold = -146.5\n",
      "step 6: mean reward = -148.23316\tthreshold = -141.2\n",
      "step 7: mean reward = -139.13473\tthreshold = -137.9\n",
      "step 8: mean reward = -130.68527\tthreshold = -131.0\n",
      "step 9: mean reward = -121.67684\tthreshold = -122.5\n",
      "step 10: mean reward = -112.80159\tthreshold = -117.0\n",
      "step 11: mean reward = -109.54837\tthreshold = -110.4\n",
      "step 12: mean reward = -103.30286\tthreshold = -106.8\n",
      "step 13: mean reward = -98.51816\tthreshold = -104.3\n",
      "step 14: mean reward = -100.94321\tthreshold = -101.0\n",
      "step 15: mean reward = -95.39076\tthreshold = -96.0\n",
      "step 16: mean reward = -86.63914\tthreshold = -92.1\n",
      "step 17: mean reward = -84.05736\tthreshold = -86.5\n",
      "step 18: mean reward = -78.29294\tthreshold = -82.4\n",
      "step 19: mean reward = -68.51719\tthreshold = -77.0\n",
      "step 20: mean reward = -74.49924\tthreshold = -74.7\n",
      "step 21: mean reward = -70.15961\tthreshold = -72.2\n",
      "step 22: mean reward = -65.44021\tthreshold = -69.7\n",
      "step 23: mean reward = -60.34129\tthreshold = -65.3\n",
      "step 24: mean reward = -53.59463\tthreshold = -62.2\n",
      "step 25: mean reward = -52.25384\tthreshold = -59.0\n",
      "step 26: mean reward = -50.00228\tthreshold = -53.4\n",
      "step 27: mean reward = -40.76689\tthreshold = -48.2\n",
      "step 28: mean reward = -40.33514\tthreshold = -46.0\n",
      "step 29: mean reward = -38.51076\tthreshold = -43.4\n",
      "step 30: mean reward = -31.42322\tthreshold = -38.3\n",
      "step 31: mean reward = -31.57094\tthreshold = -35.4\n",
      "step 32: mean reward = -22.44182\tthreshold = -33.0\n",
      "step 33: mean reward = -22.97669\tthreshold = -29.8\n",
      "step 34: mean reward = -23.39581\tthreshold = -24.5\n",
      "step 35: mean reward = -24.47848\tthreshold = -24.5\n",
      "step 36: mean reward = -15.08461\tthreshold = -23.6\n",
      "step 37: mean reward = -21.73655\tthreshold = -23.1\n",
      "step 38: mean reward = -19.32181\tthreshold = -21.0\n",
      "step 39: mean reward = -17.48085\tthreshold = -19.9\n",
      "step 40: mean reward = -13.65769\tthreshold = -17.1\n",
      "step 41: mean reward = -15.63262\tthreshold = -15.9\n",
      "step 42: mean reward = -5.81814\tthreshold = -13.5\n",
      "step 43: mean reward = -12.67264\tthreshold = -13.8\n",
      "step 44: mean reward = -13.46692\tthreshold = -11.4\n",
      "step 45: mean reward = -9.72841\tthreshold = -11.7\n",
      "step 46: mean reward = -3.47399\tthreshold = -11.3\n",
      "step 47: mean reward = -5.74748\tthreshold = -9.8\n",
      "step 48: mean reward = -2.12726\tthreshold = -7.3\n",
      "step 49: mean reward = -0.44126\tthreshold = -4.7\n",
      "step 50: mean reward = 1.56246\tthreshold = -4.5\n",
      "step 51: mean reward = 7.54401\tthreshold = -3.6\n",
      "step 52: mean reward = -4.92300\tthreshold = -1.1\n",
      "step 53: mean reward = 29.87589\tthreshold = 3.0\n",
      "step 54: mean reward = 26.97278\tthreshold = 7.4\n",
      "step 55: mean reward = 21.12261\tthreshold = 8.9\n",
      "step 56: mean reward = 23.16428\tthreshold = 8.6\n",
      "step 57: mean reward = 28.78657\tthreshold = 9.6\n",
      "step 58: mean reward = 21.22237\tthreshold = 11.2\n",
      "step 59: mean reward = 32.00852\tthreshold = 12.4\n",
      "step 60: mean reward = 39.90884\tthreshold = 20.8\n",
      "step 61: mean reward = 34.02231\tthreshold = 24.3\n",
      "step 62: mean reward = 31.01154\tthreshold = 28.8\n",
      "step 63: mean reward = 46.27986\tthreshold = 32.2\n",
      "step 64: mean reward = 61.94542\tthreshold = 57.8\n",
      "step 65: mean reward = 52.17654\tthreshold = 65.2\n",
      "step 66: mean reward = 38.71970\tthreshold = 65.8\n",
      "step 67: mean reward = 51.67568\tthreshold = 62.9\n",
      "step 68: mean reward = 43.74283\tthreshold = 63.4\n",
      "step 69: mean reward = 50.60460\tthreshold = 64.4\n",
      "step 70: mean reward = 69.18507\tthreshold = 71.4\n",
      "step 71: mean reward = 59.31935\tthreshold = 73.7\n",
      "step 72: mean reward = 64.71535\tthreshold = 83.0\n"
     ]
    },
    {
     "ename": "KeyboardInterrupt",
     "evalue": "",
     "output_type": "error",
     "traceback": [
      "\u001b[0;31m---------------------------------------------------------------------------\u001b[0m",
      "\u001b[0;31mKeyboardInterrupt\u001b[0m                         Traceback (most recent call last)",
      "\u001b[0;32m<ipython-input-2-043c1f993066>\u001b[0m in \u001b[0;36m<module>\u001b[0;34m()\u001b[0m\n\u001b[1;32m     58\u001b[0m \u001b[0;34m\u001b[0m\u001b[0m\n\u001b[1;32m     59\u001b[0m \u001b[0;32mfor\u001b[0m \u001b[0mi\u001b[0m \u001b[0;32min\u001b[0m \u001b[0mrange\u001b[0m\u001b[0;34m(\u001b[0m\u001b[0;36m100\u001b[0m\u001b[0;34m)\u001b[0m\u001b[0;34m:\u001b[0m\u001b[0;34m\u001b[0m\u001b[0m\n\u001b[0;32m---> 60\u001b[0;31m     \u001b[0msessions\u001b[0m \u001b[0;34m=\u001b[0m \u001b[0mParallel\u001b[0m\u001b[0;34m(\u001b[0m\u001b[0mn_jobs\u001b[0m\u001b[0;34m=\u001b[0m\u001b[0;36m4\u001b[0m\u001b[0;34m)\u001b[0m\u001b[0;34m(\u001b[0m\u001b[0mdelayed\u001b[0m\u001b[0;34m(\u001b[0m\u001b[0mgenerate_session\u001b[0m\u001b[0;34m)\u001b[0m\u001b[0;34m(\u001b[0m\u001b[0;34m)\u001b[0m \u001b[0;32mfor\u001b[0m \u001b[0m_\u001b[0m \u001b[0;32min\u001b[0m \u001b[0mrange\u001b[0m\u001b[0;34m(\u001b[0m\u001b[0mn_samples\u001b[0m\u001b[0;34m)\u001b[0m\u001b[0;34m)\u001b[0m\u001b[0;34m\u001b[0m\u001b[0m\n\u001b[0m\u001b[1;32m     61\u001b[0m \u001b[0;34m\u001b[0m\u001b[0m\n\u001b[1;32m     62\u001b[0m     \u001b[0mbatch_states\u001b[0m\u001b[0;34m,\u001b[0m \u001b[0mbatch_actions\u001b[0m\u001b[0;34m,\u001b[0m \u001b[0mbatch_rewards\u001b[0m \u001b[0;34m=\u001b[0m \u001b[0mzip\u001b[0m\u001b[0;34m(\u001b[0m\u001b[0;34m*\u001b[0m\u001b[0msessions\u001b[0m\u001b[0;34m)\u001b[0m\u001b[0;34m\u001b[0m\u001b[0m\n",
      "\u001b[0;32m/usr/local/lib/python3.4/dist-packages/joblib/parallel.py\u001b[0m in \u001b[0;36m__call__\u001b[0;34m(self, iterable)\u001b[0m\n\u001b[1;32m    766\u001b[0m                 \u001b[0;31m# consumption.\u001b[0m\u001b[0;34m\u001b[0m\u001b[0;34m\u001b[0m\u001b[0m\n\u001b[1;32m    767\u001b[0m                 \u001b[0mself\u001b[0m\u001b[0;34m.\u001b[0m\u001b[0m_iterating\u001b[0m \u001b[0;34m=\u001b[0m \u001b[0;32mFalse\u001b[0m\u001b[0;34m\u001b[0m\u001b[0m\n\u001b[0;32m--> 768\u001b[0;31m             \u001b[0mself\u001b[0m\u001b[0;34m.\u001b[0m\u001b[0mretrieve\u001b[0m\u001b[0;34m(\u001b[0m\u001b[0;34m)\u001b[0m\u001b[0;34m\u001b[0m\u001b[0m\n\u001b[0m\u001b[1;32m    769\u001b[0m             \u001b[0;31m# Make sure that we get a last message telling us we are done\u001b[0m\u001b[0;34m\u001b[0m\u001b[0;34m\u001b[0m\u001b[0m\n\u001b[1;32m    770\u001b[0m             \u001b[0melapsed_time\u001b[0m \u001b[0;34m=\u001b[0m \u001b[0mtime\u001b[0m\u001b[0;34m.\u001b[0m\u001b[0mtime\u001b[0m\u001b[0;34m(\u001b[0m\u001b[0;34m)\u001b[0m \u001b[0;34m-\u001b[0m \u001b[0mself\u001b[0m\u001b[0;34m.\u001b[0m\u001b[0m_start_time\u001b[0m\u001b[0;34m\u001b[0m\u001b[0m\n",
      "\u001b[0;32m/usr/local/lib/python3.4/dist-packages/joblib/parallel.py\u001b[0m in \u001b[0;36mretrieve\u001b[0;34m(self)\u001b[0m\n\u001b[1;32m    717\u001b[0m                     \u001b[0mensure_ready\u001b[0m \u001b[0;34m=\u001b[0m \u001b[0mself\u001b[0m\u001b[0;34m.\u001b[0m\u001b[0m_managed_backend\u001b[0m\u001b[0;34m\u001b[0m\u001b[0m\n\u001b[1;32m    718\u001b[0m                     \u001b[0mbackend\u001b[0m\u001b[0;34m.\u001b[0m\u001b[0mabort_everything\u001b[0m\u001b[0;34m(\u001b[0m\u001b[0mensure_ready\u001b[0m\u001b[0;34m=\u001b[0m\u001b[0mensure_ready\u001b[0m\u001b[0;34m)\u001b[0m\u001b[0;34m\u001b[0m\u001b[0m\n\u001b[0;32m--> 719\u001b[0;31m                 \u001b[0;32mraise\u001b[0m \u001b[0mexception\u001b[0m\u001b[0;34m\u001b[0m\u001b[0m\n\u001b[0m\u001b[1;32m    720\u001b[0m \u001b[0;34m\u001b[0m\u001b[0m\n\u001b[1;32m    721\u001b[0m     \u001b[0;32mdef\u001b[0m \u001b[0m__call__\u001b[0m\u001b[0;34m(\u001b[0m\u001b[0mself\u001b[0m\u001b[0;34m,\u001b[0m \u001b[0miterable\u001b[0m\u001b[0;34m)\u001b[0m\u001b[0;34m:\u001b[0m\u001b[0;34m\u001b[0m\u001b[0m\n",
      "\u001b[0;32m/usr/local/lib/python3.4/dist-packages/joblib/parallel.py\u001b[0m in \u001b[0;36mretrieve\u001b[0;34m(self)\u001b[0m\n\u001b[1;32m    680\u001b[0m                 \u001b[0;31m# check if timeout supported in backend future implementation\u001b[0m\u001b[0;34m\u001b[0m\u001b[0;34m\u001b[0m\u001b[0m\n\u001b[1;32m    681\u001b[0m                 \u001b[0;32mif\u001b[0m \u001b[0;34m'timeout'\u001b[0m \u001b[0;32min\u001b[0m \u001b[0mgetfullargspec\u001b[0m\u001b[0;34m(\u001b[0m\u001b[0mjob\u001b[0m\u001b[0;34m.\u001b[0m\u001b[0mget\u001b[0m\u001b[0;34m)\u001b[0m\u001b[0;34m.\u001b[0m\u001b[0margs\u001b[0m\u001b[0;34m:\u001b[0m\u001b[0;34m\u001b[0m\u001b[0m\n\u001b[0;32m--> 682\u001b[0;31m                     \u001b[0mself\u001b[0m\u001b[0;34m.\u001b[0m\u001b[0m_output\u001b[0m\u001b[0;34m.\u001b[0m\u001b[0mextend\u001b[0m\u001b[0;34m(\u001b[0m\u001b[0mjob\u001b[0m\u001b[0;34m.\u001b[0m\u001b[0mget\u001b[0m\u001b[0;34m(\u001b[0m\u001b[0mtimeout\u001b[0m\u001b[0;34m=\u001b[0m\u001b[0mself\u001b[0m\u001b[0;34m.\u001b[0m\u001b[0mtimeout\u001b[0m\u001b[0;34m)\u001b[0m\u001b[0;34m)\u001b[0m\u001b[0;34m\u001b[0m\u001b[0m\n\u001b[0m\u001b[1;32m    683\u001b[0m                 \u001b[0;32melse\u001b[0m\u001b[0;34m:\u001b[0m\u001b[0;34m\u001b[0m\u001b[0m\n\u001b[1;32m    684\u001b[0m                     \u001b[0mself\u001b[0m\u001b[0;34m.\u001b[0m\u001b[0m_output\u001b[0m\u001b[0;34m.\u001b[0m\u001b[0mextend\u001b[0m\u001b[0;34m(\u001b[0m\u001b[0mjob\u001b[0m\u001b[0;34m.\u001b[0m\u001b[0mget\u001b[0m\u001b[0;34m(\u001b[0m\u001b[0;34m)\u001b[0m\u001b[0;34m)\u001b[0m\u001b[0;34m\u001b[0m\u001b[0m\n",
      "\u001b[0;32m/usr/lib/python3.4/multiprocessing/pool.py\u001b[0m in \u001b[0;36mget\u001b[0;34m(self, timeout)\u001b[0m\n\u001b[1;32m    591\u001b[0m \u001b[0;34m\u001b[0m\u001b[0m\n\u001b[1;32m    592\u001b[0m     \u001b[0;32mdef\u001b[0m \u001b[0mget\u001b[0m\u001b[0;34m(\u001b[0m\u001b[0mself\u001b[0m\u001b[0;34m,\u001b[0m \u001b[0mtimeout\u001b[0m\u001b[0;34m=\u001b[0m\u001b[0;32mNone\u001b[0m\u001b[0;34m)\u001b[0m\u001b[0;34m:\u001b[0m\u001b[0;34m\u001b[0m\u001b[0m\n\u001b[0;32m--> 593\u001b[0;31m         \u001b[0mself\u001b[0m\u001b[0;34m.\u001b[0m\u001b[0mwait\u001b[0m\u001b[0;34m(\u001b[0m\u001b[0mtimeout\u001b[0m\u001b[0;34m)\u001b[0m\u001b[0;34m\u001b[0m\u001b[0m\n\u001b[0m\u001b[1;32m    594\u001b[0m         \u001b[0;32mif\u001b[0m \u001b[0;32mnot\u001b[0m \u001b[0mself\u001b[0m\u001b[0;34m.\u001b[0m\u001b[0mready\u001b[0m\u001b[0;34m(\u001b[0m\u001b[0;34m)\u001b[0m\u001b[0;34m:\u001b[0m\u001b[0;34m\u001b[0m\u001b[0m\n\u001b[1;32m    595\u001b[0m             \u001b[0;32mraise\u001b[0m \u001b[0mTimeoutError\u001b[0m\u001b[0;34m\u001b[0m\u001b[0m\n",
      "\u001b[0;32m/usr/lib/python3.4/multiprocessing/pool.py\u001b[0m in \u001b[0;36mwait\u001b[0;34m(self, timeout)\u001b[0m\n\u001b[1;32m    588\u001b[0m \u001b[0;34m\u001b[0m\u001b[0m\n\u001b[1;32m    589\u001b[0m     \u001b[0;32mdef\u001b[0m \u001b[0mwait\u001b[0m\u001b[0;34m(\u001b[0m\u001b[0mself\u001b[0m\u001b[0;34m,\u001b[0m \u001b[0mtimeout\u001b[0m\u001b[0;34m=\u001b[0m\u001b[0;32mNone\u001b[0m\u001b[0;34m)\u001b[0m\u001b[0;34m:\u001b[0m\u001b[0;34m\u001b[0m\u001b[0m\n\u001b[0;32m--> 590\u001b[0;31m         \u001b[0mself\u001b[0m\u001b[0;34m.\u001b[0m\u001b[0m_event\u001b[0m\u001b[0;34m.\u001b[0m\u001b[0mwait\u001b[0m\u001b[0;34m(\u001b[0m\u001b[0mtimeout\u001b[0m\u001b[0;34m)\u001b[0m\u001b[0;34m\u001b[0m\u001b[0m\n\u001b[0m\u001b[1;32m    591\u001b[0m \u001b[0;34m\u001b[0m\u001b[0m\n\u001b[1;32m    592\u001b[0m     \u001b[0;32mdef\u001b[0m \u001b[0mget\u001b[0m\u001b[0;34m(\u001b[0m\u001b[0mself\u001b[0m\u001b[0;34m,\u001b[0m \u001b[0mtimeout\u001b[0m\u001b[0;34m=\u001b[0m\u001b[0;32mNone\u001b[0m\u001b[0;34m)\u001b[0m\u001b[0;34m:\u001b[0m\u001b[0;34m\u001b[0m\u001b[0m\n",
      "\u001b[0;32m/usr/lib/python3.4/threading.py\u001b[0m in \u001b[0;36mwait\u001b[0;34m(self, timeout)\u001b[0m\n\u001b[1;32m    551\u001b[0m             \u001b[0msignaled\u001b[0m \u001b[0;34m=\u001b[0m \u001b[0mself\u001b[0m\u001b[0;34m.\u001b[0m\u001b[0m_flag\u001b[0m\u001b[0;34m\u001b[0m\u001b[0m\n\u001b[1;32m    552\u001b[0m             \u001b[0;32mif\u001b[0m \u001b[0;32mnot\u001b[0m \u001b[0msignaled\u001b[0m\u001b[0;34m:\u001b[0m\u001b[0;34m\u001b[0m\u001b[0m\n\u001b[0;32m--> 553\u001b[0;31m                 \u001b[0msignaled\u001b[0m \u001b[0;34m=\u001b[0m \u001b[0mself\u001b[0m\u001b[0;34m.\u001b[0m\u001b[0m_cond\u001b[0m\u001b[0;34m.\u001b[0m\u001b[0mwait\u001b[0m\u001b[0;34m(\u001b[0m\u001b[0mtimeout\u001b[0m\u001b[0;34m)\u001b[0m\u001b[0;34m\u001b[0m\u001b[0m\n\u001b[0m\u001b[1;32m    554\u001b[0m             \u001b[0;32mreturn\u001b[0m \u001b[0msignaled\u001b[0m\u001b[0;34m\u001b[0m\u001b[0m\n\u001b[1;32m    555\u001b[0m         \u001b[0;32mfinally\u001b[0m\u001b[0;34m:\u001b[0m\u001b[0;34m\u001b[0m\u001b[0m\n",
      "\u001b[0;32m/usr/lib/python3.4/threading.py\u001b[0m in \u001b[0;36mwait\u001b[0;34m(self, timeout)\u001b[0m\n\u001b[1;32m    288\u001b[0m         \u001b[0;32mtry\u001b[0m\u001b[0;34m:\u001b[0m    \u001b[0;31m# restore state no matter what (e.g., KeyboardInterrupt)\u001b[0m\u001b[0;34m\u001b[0m\u001b[0m\n\u001b[1;32m    289\u001b[0m             \u001b[0;32mif\u001b[0m \u001b[0mtimeout\u001b[0m \u001b[0;32mis\u001b[0m \u001b[0;32mNone\u001b[0m\u001b[0;34m:\u001b[0m\u001b[0;34m\u001b[0m\u001b[0m\n\u001b[0;32m--> 290\u001b[0;31m                 \u001b[0mwaiter\u001b[0m\u001b[0;34m.\u001b[0m\u001b[0macquire\u001b[0m\u001b[0;34m(\u001b[0m\u001b[0;34m)\u001b[0m\u001b[0;34m\u001b[0m\u001b[0m\n\u001b[0m\u001b[1;32m    291\u001b[0m                 \u001b[0mgotit\u001b[0m \u001b[0;34m=\u001b[0m \u001b[0;32mTrue\u001b[0m\u001b[0;34m\u001b[0m\u001b[0m\n\u001b[1;32m    292\u001b[0m             \u001b[0;32melse\u001b[0m\u001b[0;34m:\u001b[0m\u001b[0;34m\u001b[0m\u001b[0m\n",
      "\u001b[0;31mKeyboardInterrupt\u001b[0m: "
     ]
    },
    {
     "data": {
      "image/png": "[encoded data removed]",
      "text/plain": [
       "<matplotlib.figure.Figure at 0x7f8b497d7390>"
      ]
     },
     "metadata": {},
     "output_type": "display_data"
    }
   ],
   "source": [
    "import matplotlib.pyplot as plt\n",
    "%matplotlib inline\n",
    "\n",
    "env = gym.make(\"LunarLander-v2\")\n",
    "env.reset()\n",
    "n_actions = env.action_space.n\n",
    "\n",
    "plt.imshow(env.render(\"rgb_array\"))\n",
    "\n",
    "\n",
    "from sklearn.neural_network import MLPClassifier\n",
    "agent = MLPClassifier(hidden_layer_sizes=(64, 32),\n",
    "                      activation='relu',\n",
    "                      warm_start=True, #keep progress between .fit(...) calls\n",
    "                      max_iter=1 #make only 1 iteration on each .fit(...)\n",
    "                     )\n",
    "#initialize agent to the dimension of state an amount of actions\n",
    "agent.fit([env.reset()] * n_actions, range(n_actions));\n",
    "\n",
    "def generate_session(t_max=1000):\n",
    "    \n",
    "    states, actions = [], []\n",
    "    total_reward = 0\n",
    "    \n",
    "    s = env.reset()\n",
    "    \n",
    "    for t in range(t_max):\n",
    "        \n",
    "        #predict array of action probabilities\n",
    "        probs = agent.predict_proba([s])[0]\n",
    "        a = np.random.choice(n_actions, p=probs)\n",
    "        \n",
    "        new_s, r, done, info = env.step(a)\n",
    "        \n",
    "        #record sessions like you did before\n",
    "        states.append(s)\n",
    "        actions.append(a)\n",
    "        total_reward += r\n",
    "        \n",
    "        s = new_s\n",
    "        if done: \n",
    "            break\n",
    "            \n",
    "    return states, actions, total_reward\n",
    "\n",
    "\n",
    "from joblib import Parallel, delayed\n",
    "from collections import deque\n",
    "from functools import reduce\n",
    "\n",
    "n_samples = 200\n",
    "percentile = 50\n",
    "\n",
    "history_size = 3\n",
    "history_states = deque(maxlen=history_size)\n",
    "history_actions = deque(maxlen=history_size)\n",
    "history_rewards = deque(maxlen=history_size)\n",
    "\n",
    "for i in range(100):\n",
    "    sessions = Parallel(n_jobs=4)(delayed(generate_session)() for _ in range(n_samples))\n",
    "\n",
    "    batch_states, batch_actions, batch_rewards = zip(*sessions)\n",
    "\n",
    "    history_states.append(batch_states)\n",
    "    history_actions.append(batch_actions)\n",
    "    history_rewards.append(batch_rewards)\n",
    "\n",
    "    states = np.array(reduce(lambda x, y: tuple(x) + tuple(y), history_states))\n",
    "    actions = np.array(reduce(lambda x, y: tuple(x) + tuple(y), history_actions))\n",
    "    rewards = np.concatenate(history_rewards)\n",
    "\n",
    "    threshold = np.percentile(rewards, percentile)\n",
    "    \n",
    "    elite_states = states[rewards >= threshold]\n",
    "    elite_actions = actions[rewards >= threshold]\n",
    "    \n",
    "    elite_states, elite_actions = map(np.concatenate, [elite_states, elite_actions])\n",
    "    \n",
    "    agent.fit(elite_states, elite_actions)\n",
    "\n",
    "    print(\"step %i: mean reward = %.5f\\tthreshold = %.1f\"%(i, np.mean(batch_rewards), threshold))"
   ]
  },
  {
   "cell_type": "markdown",
   "metadata": {},
   "source": [
    "Залил на gym: https://gym.openai.com/evaluations/eval_OI5rn0qZQr2q3kTyYjm8tA"
   ]
  },
  {
   "cell_type": "markdown",
   "metadata": {},
   "source": [
    "# Results"
   ]
  },
  {
   "cell_type": "code",
   "execution_count": 3,
   "metadata": {
    "collapsed": false
   },
   "outputs": [
    {
     "name": "stderr",
     "output_type": "stream",
     "text": [
      "[2017-02-25 12:24:28,832] Clearing 12 monitor files from previous run (because force=True was provided)\n",
      "[2017-02-25 12:24:28,837] Starting new video recorder writing to /home/golovanov/repo/git/Practical_RL/week1/videos/openaigym.video.0.18827.video000000.mp4\n",
      "[2017-02-25 12:24:49,293] Starting new video recorder writing to /home/golovanov/repo/git/Practical_RL/week1/videos/openaigym.video.0.18827.video000001.mp4\n",
      "[2017-02-25 12:25:02,331] Starting new video recorder writing to /home/golovanov/repo/git/Practical_RL/week1/videos/openaigym.video.0.18827.video000008.mp4\n",
      "[2017-02-25 12:25:39,589] Starting new video recorder writing to /home/golovanov/repo/git/Practical_RL/week1/videos/openaigym.video.0.18827.video000027.mp4\n",
      "[2017-02-25 12:26:35,690] Starting new video recorder writing to /home/golovanov/repo/git/Practical_RL/week1/videos/openaigym.video.0.18827.video000064.mp4\n",
      "[2017-02-25 12:27:27,348] Finished writing results. You can upload them to the scoreboard via gym.upload('/home/golovanov/repo/git/Practical_RL/week1/videos')\n",
      "[2017-02-25 12:27:27,350] [LunarLander-v2] Uploading 100 episodes of training data\n",
      "[2017-02-25 12:27:30,388] [LunarLander-v2] Uploading videos of 5 training episodes (675347 bytes)\n",
      "[2017-02-25 12:27:33,669] [LunarLander-v2] Creating evaluation object from ./videos/ with learning curve and training video\n",
      "[2017-02-25 12:27:34,180] \n",
      "****************************************************\n",
      "You successfully uploaded your evaluation on LunarLander-v2 to\n",
      "OpenAI Gym! You can find it at:\n",
      "\n",
      "    https://gym.openai.com/evaluations/eval_OI5rn0qZQr2q3kTyYjm8tA\n",
      "\n",
      "****************************************************\n"
     ]
    }
   ],
   "source": [
    "#record sessions\n",
    "import gym.wrappers\n",
    "env = gym.wrappers.Monitor(env,directory=\"videos\",force=True)\n",
    "sessions = [generate_session() for _ in range(100)]\n",
    "env.close()\n",
    "#unwrap \n",
    "env = env.env.env\n",
    "#upload to gym\n",
    "gym.upload(\"./videos/\",api_key=\"sk_T2P9FKPSSLSzdYbs1KVbvA\") #you'll need me later\n",
    "\n",
    "#Warning! If you keep seeing error that reads something like\"DoubleWrapError\",\n",
    "#run env=gym.make(\"CartPole-v0\");env.reset();"
   ]
  },
  {
   "cell_type": "code",
   "execution_count": null,
   "metadata": {
    "collapsed": true
   },
   "outputs": [],
   "source": [
    "#show video\n",
    "from IPython.display import HTML\n",
    "import os\n",
    "\n",
    "video_names = list(filter(lambda s:s.endswith(\".mp4\"),os.listdir(\"./videos/\")))\n",
    "\n",
    "HTML(\"\"\"\n",
    "<video width=\"640\" height=\"480\" controls>\n",
    "  <source src=\"{}\" type=\"video/mp4\">\n",
    "</video>\n",
    "\"\"\".format(\"./videos/\"+video_names[-1])) #this may or may not be _last_ video. Try other indices"
   ]
  },
  {
   "cell_type": "markdown",
   "metadata": {},
   "source": [
    "# Homework part I\n",
    "\n",
    "### Tabular correntropy method\n",
    "\n",
    "You may have noticed that the taxi problem quickly converges from -10k to aroung -500 score (+- 500) and stays there. This is in part because taxi-v2 has some hard-coded randomness in the environment. Other reason is that the percentile was chosen poorly.\n",
    "\n",
    "### Tasks\n",
    "- __1.1__ (1 pt) Modify the tabular CEM (CrossEntropyMethod) code to plot distribution of rewards and threshold on each tick.\n",
    "- __1.2__ (2 pts) Find out how the algorithm performance changes if you change different percentile and different n_samples.\n",
    "\n",
    "```При увеличении перцентили, распределение быстрее смещается в положителную сторону, но при этом оно раздваивается на два пика. Один ближе к 0, другой (чем выше перцентиль, тем больше пик), - уходит в минус. Фактически, чем ниже перцентиль - тем медленнее и надежнее сходится алгоритм. И чем выше перцентиль, тем вероятнее мы выбираем \"удачливые\" стратегии, которым потом не везет. Увеличение числа сессий снижает этот недостаток на высоких перцентилях.```\n",
    "\n",
    "\n",
    "- __1.3__ (2 pts) Tune the algorithm to end up with positive average score.\n",
    "- __1.4 bonus__ (1 pt) Try to achieve a distribution where 25% or more samples score above +9.0\n",
    "- __1.5 bonus__ (2 pts) Solve and upload [Taxi-v1](https://gym.openai.com/envs/Taxi-v1) to the openai gym.\n",
    "\n",
    "It's okay to modify the existing code.\n"
   ]
  },
  {
   "cell_type": "markdown",
   "metadata": {},
   "source": []
  },
  {
   "cell_type": "markdown",
   "metadata": {},
   "source": [
    "# Homework part II\n",
    "\n",
    "### Deep crossentropy method\n",
    "\n",
    "By this moment you should have got enough score on [CartPole-v0](https://gym.openai.com/envs/CartPole-v0) to consider it solved (see the link). It's time to upload the result and get to something harder.\n",
    "\n",
    "* if you have any trouble with CartPole-v0 and feel stuck, feel free to ask us or your peers for help.\n",
    "\n",
    "### Tasks\n",
    "\n",
    "* __2.1__ Go to the [gym site](http://gym.openai.com/), register and obtain __api key__.\n",
    "* __2.2__ (1 pt) Upload your result to gym via gym.upload (see Results tab above, the line you need is commented)\n",
    "* __2.3__ (3 pts) Pick one of environments: MountainCar-v0 or LunarLander-v2 (or both) and solve it.\n",
    "  * For MountainCar, learn to finish it in __less than 180 steps__\n",
    "  * For LunarLander, learn to get reward of __at least +50__\n",
    "  * See the tips section below, it's kinda important.\n",
    "  \n",
    "  \n",
    "* __2.4__ (1+ pt) Devise a way to speed up training at least 2x against the default version\n",
    "  * Obvious improvement: use [joblib](https://www.google.com/search?client=ubuntu&channel=fs&q=joblib&ie=utf-8&oe=utf-8)\n",
    "  * Try re-using samples from 3-5 last iterations when computing threshold and training\n",
    "  * Experiment with amount of training iterations and learning rate of the neural network (see params)\n",
    "  \n",
    "  \n",
    "### Tips\n",
    "* Gym page: [mountaincar](https://gym.openai.com/envs/MountainCar-v0), [lunarlander](https://gym.openai.com/envs/LunarLander-v2)\n",
    "* Sessions for MountainCar may last for 10k+ ticks. Make sure ```t_max``` param is at least 10k.\n",
    " * Also it may be a good idea to cut rewards via \">\" and not \">=\". If 90% of your sessions get reward of -10k and 20% are better, than if you use percentile 20% as threshold, R >= threshold __fails cut off bad sessions__ whule R > threshold works alright.\n",
    "* _issue with gym_: Some versions of gym limit game time by 200 ticks. This will prevent cem training in most cases. Make sure your agent is able to play for the specified __t_max__, and if it isn't, try `env = gym.make(\"MountainCar-v0\").env` or otherwise get rid of TimeLimit wrapper.\n",
    "* If you use old _swig_ lib for LunarLander-v2, you may get an error. See this [issue](https://github.com/openai/gym/issues/100) for solution.\n",
    "* If it won't train it's a good idea to plot reward distribution and record sessions: they may give you some clue. If they don't, call course staff :)\n",
    "* 20-neuron network is probably not enough, feel free to experiment.\n",
    "* __Please upload the results to openai gym and send links to all submissions in the e-mail__\n",
    "\n",
    "### Bonus tasks\n",
    "\n",
    "* __2.5 bonus__ Try to find a network architecture and training params that solve __both__ environments above (_Points depend on implementation_)\n",
    "\n",
    "* __2.6 bonus__ Solve continuous action space task with `MLPRegressor` or similar.\n",
    "  * [MountainCarContinuous-v0](https://gym.openai.com/envs/MountainCarContinuous-v0), [LunarLanderContinuous-v2](https://gym.openai.com/envs/LunarLanderContinuous-v2) (4+ points if it works)\n",
    "  \n",
    "* __2.7 bonus__ Use any deep learning framework of your choice to implement policy-gradient (see lectures) on any of those envs (4 +1 per env):\n",
    "  * CartPole-v0\n",
    "  * MountainCar-v0\n",
    "  * LunarLander-v2\n",
    "  * See __tips on policy gradient__ below.\n",
    "  \n",
    "\n",
    "* __2.8 bonus__ take your favorite deep learning framework and try to get above random in [Atari Breakout](https://gym.openai.com/envs/Breakout-v0) with crossentropy method over a convolutional network.\n",
    "  * Expect at least +10 points if you get this up and running, no deadlines apply ! \n",
    "  * __See tips below on where to start, they're cruicially important__"
   ]
  },
  {
   "cell_type": "markdown",
   "metadata": {},
   "source": [
    "### Tips on policy gradient\n",
    "\n",
    "* The loss function is very similar to crossentropy method. You can get away with using rewards as  __sample_weights__.\n",
    "* If your algorithm converges to a poor strategy, try regularizing with entropy or just somehow prevent agent from picking actions deterministically (e.g. when probs = 0,0,1,0,0)\n",
    "* We will use `lasagne` later in the course so you can try to [learn it](http://lasagne.readthedocs.io/en/latest/user/tutorial.html).\n",
    "* If you don't want to mess with theano just yet, try [keras](https://keras.io/getting-started/sequential-model-guide/) or [mxnet](http://mxnet.io/tutorials/index.html).\n"
   ]
  },
  {
   "cell_type": "markdown",
   "metadata": {},
   "source": [
    " ### Tips on atari breakout"
   ]
  },
  {
   "cell_type": "markdown",
   "metadata": {},
   "source": [
    "* There's all the pre-processing and tuning done for you in the code below\n",
    "* Once you got it working, it's probably a good idea to pre-train with autoencoder or something\n",
    "* We use last 4 frames as observations to account for ball velocity\n",
    "* The code below requires ```pip install Image``` and ```pip install gym[atari]```"
   ]
  },
  {
   "cell_type": "code",
   "execution_count": null,
   "metadata": {
    "collapsed": false
   },
   "outputs": [],
   "source": [
    "from breakout import make_breakout\n",
    "\n",
    "env = make_breakout()\n",
    "env.action_space"
   ]
  },
  {
   "cell_type": "code",
   "execution_count": null,
   "metadata": {
    "collapsed": false
   },
   "outputs": [],
   "source": [
    "#get the initial state\n",
    "s = env.reset()\n",
    "print (s.shape)"
   ]
  },
  {
   "cell_type": "code",
   "execution_count": null,
   "metadata": {
    "collapsed": false
   },
   "outputs": [],
   "source": [
    "import matplotlib.pyplot as plt\n",
    "%matplotlib inline\n",
    "#plot first observation. Only one frame\n",
    "plt.imshow(s.swapaxes(1,2).reshape(-1,64).T)"
   ]
  },
  {
   "cell_type": "code",
   "execution_count": null,
   "metadata": {
    "collapsed": false
   },
   "outputs": [],
   "source": [
    "#next frame\n",
    "new_s,r,done, _ = env.step(env.action_space.sample())\n",
    "plt.imshow(new_s.swapaxes(1,2).reshape(-1,64).T)"
   ]
  },
  {
   "cell_type": "code",
   "execution_count": null,
   "metadata": {
    "collapsed": false
   },
   "outputs": [],
   "source": [
    "#after 10 frames\n",
    "for _ in range(10):\n",
    "    new_s,r,done, _ = env.step(env.action_space.sample())\n",
    "\n",
    "plt.imshow(new_s.swapaxes(1,2).reshape(-1,64).T)"
   ]
  },
  {
   "cell_type": "code",
   "execution_count": null,
   "metadata": {
    "collapsed": true
   },
   "outputs": [],
   "source": [
    "< tons of your code here or elsewhere >"
   ]
  }
 ],
 "metadata": {
  "kernelspec": {
   "display_name": "Python [Root]",
   "language": "python",
   "name": "Python [Root]"
  },
  "language_info": {
   "codemirror_mode": {
    "name": "ipython",
    "version": 2
   },
   "file_extension": ".py",
   "mimetype": "text/x-python",
   "name": "python",
   "nbconvert_exporter": "python",
   "pygments_lexer": "ipython3",
   "version": "3.4.3"
  }
 },
 "nbformat": 4,
 "nbformat_minor": 0
}
