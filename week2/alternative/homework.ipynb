{
 "cells": [
  {
   "cell_type": "code",
   "execution_count": 1,
   "metadata": {
    "collapsed": true
   },
   "outputs": [],
   "source": [
    "import gym\n",
    "import numpy as np\n",
    "import matplotlib.pyplot as plt\n",
    "%matplotlib inline\n",
    "from IPython.display import clear_output\n",
    "from qlearning import QLearningAgent\n",
    "\n",
    "\n",
    "def play_and_train(env, agent, t_max=10**5):\n",
    "    \"\"\"This function should \n",
    "    - run a full game, actions given by agent.getAction(s)\n",
    "    - train agent using agent.update(...) whenever possible\n",
    "    - return total reward\"\"\"\n",
    "    total_reward = 0.0\n",
    "    s = env.reset()\n",
    "    \n",
    "    for t in range(t_max):\n",
    "        a = agent.getAction(s)\n",
    "        next_s, r, done, _ = env.step(a)\n",
    "        agent.update(s, a, next_s, r)\n",
    "        s = next_s\n",
    "        total_reward +=r\n",
    "        if done:\n",
    "            break\n",
    "        \n",
    "    return total_reward"
   ]
  },
  {
   "cell_type": "markdown",
   "metadata": {},
   "source": [
    "### Demo on taxi\n",
    "\n",
    "Here we use the qlearning agent from before on taxi env from openai gym.\n",
    "You will need to insert a few agent functions here."
   ]
  },
  {
   "cell_type": "code",
   "execution_count": 2,
   "metadata": {
    "collapsed": false
   },
   "outputs": [
    {
     "name": "stderr",
     "output_type": "stream",
     "text": [
      "[2017-03-08 15:48:56,456] Making new env: Taxi-v2\n"
     ]
    }
   ],
   "source": [
    "env = gym.make(\"Taxi-v2\")\n",
    "n_actions = env.action_space.n"
   ]
  },
  {
   "cell_type": "code",
   "execution_count": 3,
   "metadata": {
    "collapsed": false
   },
   "outputs": [
    {
     "name": "stdout",
     "output_type": "stream",
     "text": [
      "epsilon = 0\n",
      "mean reward = 7.98\n"
     ]
    },
    {
     "data": {
      "image/png": "[encoded data removed]",
      "text/plain": [
       "<matplotlib.figure.Figure at 0x7f3e54d33b70>"
      ]
     },
     "metadata": {},
     "output_type": "display_data"
    }
   ],
   "source": [
    "agent = QLearningAgent(alpha=0.5, epsilon=1, discount=0.99,\n",
    "                       getLegalActions=lambda s: range(n_actions))\n",
    "\n",
    "rewards = []\n",
    "for i in range(50000):\n",
    "    rewards.append(play_and_train(env, agent))\n",
    "    \n",
    "    if agent.epsilon < 1e-6:\n",
    "        agent.epsilon = 0\n",
    "    else:\n",
    "        agent.epsilon *= 0.9997\n",
    "        \n",
    "    \n",
    "    if i % 1000 == 0:\n",
    "        clear_output(True)\n",
    "        print(\"epsilon = {}\" .format(agent.epsilon))\n",
    "        print(\"mean reward = {}\" .format(np.mean(rewards[-100:])))\n",
    "        plt.plot(rewards)\n",
    "        plt.show()"
   ]
  },
  {
   "cell_type": "markdown",
   "metadata": {
    "collapsed": true
   },
   "source": [
    "# Main assignment\n",
    "\n",
    "Use agent to train efficiently on CartPole-v0\n",
    "\n",
    "This environment has a continuous number of states, so you will have to group them into bins somehow.\n",
    "\n",
    "The simplest way is to use `round(x,n_digits)` (or numpy round) to round real number to a given amount of digits.\n",
    "\n",
    "The tricky part is to get the n_digits right for each state to train effectively.\n",
    "\n",
    "Note that you don't need to convert state to integers, but to __tuples__ of any kind of values."
   ]
  },
  {
   "cell_type": "code",
   "execution_count": 10,
   "metadata": {
    "collapsed": false
   },
   "outputs": [
    {
     "name": "stderr",
     "output_type": "stream",
     "text": [
      "[2017-03-08 15:54:06,406] Making new env: CartPole-v0\n"
     ]
    }
   ],
   "source": [
    "from gym.core import ObservationWrapper\n",
    "\n",
    "class Binarizer(ObservationWrapper):\n",
    "    def _observation(self, state):\n",
    "        state[0] = round(state[0], 1)\n",
    "        state[1] = round(state[1], 1)\n",
    "        state[2] = round(state[2], 1)\n",
    "        state[3] = round(state[3], 1)\n",
    "        \n",
    "        return tuple(state)\n",
    "    \n",
    "env = Binarizer(gym.make(\"CartPole-v0\"))\n",
    "n_actions = env.action_space.n"
   ]
  },
  {
   "cell_type": "code",
   "execution_count": 11,
   "metadata": {
    "collapsed": false
   },
   "outputs": [
    {
     "name": "stdout",
     "output_type": "stream",
     "text": [
      "epsilon = 0\n",
      "mean reward = 197.72\n"
     ]
    },
    {
     "data": {
      "image/png": "[encoded data removed]",
      "text/plain": [
       "<matplotlib.figure.Figure at 0x7f3e544d0ef0>"
      ]
     },
     "metadata": {},
     "output_type": "display_data"
    }
   ],
   "source": [
    "agent = QLearningAgent(alpha=0.7, epsilon=1, discount=0.99,\n",
    "                       getLegalActions=lambda s: range(n_actions))\n",
    "\n",
    "rewards = []\n",
    "for i in range(50000):\n",
    "    rewards.append(play_and_train(env, agent))\n",
    "    \n",
    "    if agent.epsilon < 1e-2:\n",
    "        agent.epsilon = 0\n",
    "    else:\n",
    "        agent.epsilon *= 0.9998\n",
    "        \n",
    "    \n",
    "    if i % 1000 == 0:\n",
    "        clear_output(True)\n",
    "        print(\"epsilon = {}\" .format(agent.epsilon))\n",
    "        print(\"mean reward = {}\" .format(np.mean(rewards[-100:])))\n",
    "        plt.plot(rewards)\n",
    "        plt.show()"
   ]
  },
  {
   "cell_type": "code",
   "execution_count": null,
   "metadata": {
    "collapsed": true
   },
   "outputs": [],
   "source": []
  }
 ],
 "metadata": {
  "kernelspec": {
   "display_name": "Python 3",
   "language": "python",
   "name": "python3"
  },
  "language_info": {
   "codemirror_mode": {
    "name": "ipython",
    "version": 3
   },
   "file_extension": ".py",
   "mimetype": "text/x-python",
   "name": "python",
   "nbconvert_exporter": "python",
   "pygments_lexer": "ipython3",
   "version": "3.4.3"
  }
 },
 "nbformat": 4,
 "nbformat_minor": 0
}
