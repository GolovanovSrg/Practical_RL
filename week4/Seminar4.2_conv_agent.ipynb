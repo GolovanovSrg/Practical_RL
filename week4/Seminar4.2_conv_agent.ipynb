{
 "cells": [
  {
   "cell_type": "markdown",
   "metadata": {},
   "source": [
    "[this demo requires doom installed either from gym-pool or from [ppaquette's repo](https://github.com/ppaquette/gym-doom)]\n",
    "\n",
    "## Basic Doom demo\n",
    "\n",
    "This demo solves DoomBasic env with a simple q-learning with experience replay.\n",
    "\n",
    "Video observation forces you to use ```CNN```"
   ]
  },
  {
   "cell_type": "markdown",
   "metadata": {},
   "source": [
    "# Experiment setup\n",
    "* Here we basically just load the game and check that it works"
   ]
  },
  {
   "cell_type": "code",
   "execution_count": 1,
   "metadata": {
    "collapsed": false
   },
   "outputs": [
    {
     "name": "stdout",
     "output_type": "stream",
     "text": [
      "env: THEANO_FLAGS=device=gpu,floatX=float32\n"
     ]
    }
   ],
   "source": [
    "import matplotlib.pyplot as plt\n",
    "import numpy as np\n",
    "%matplotlib inline\n",
    "%env THEANO_FLAGS=device=gpu,floatX=float32"
   ]
  },
  {
   "cell_type": "code",
   "execution_count": 2,
   "metadata": {
    "collapsed": false
   },
   "outputs": [
    {
     "name": "stderr",
     "output_type": "stream",
     "text": [
      "WARNING (theano.sandbox.cuda): The cuda backend is deprecated and will be removed in the next release (v0.10).  Please switch to the gpuarray backend. You can get more information about how to switch at this URL:\n",
      " https://github.com/Theano/Theano/wiki/Converting-to-the-new-gpu-back-end%28gpuarray%29\n",
      "\n",
      "[2017-03-18 22:22:45,784] The cuda backend is deprecated and will be removed in the next release (v0.10).  Please switch to the gpuarray backend. You can get more information about how to switch at this URL:\n",
      " https://github.com/Theano/Theano/wiki/Converting-to-the-new-gpu-back-end%28gpuarray%29\n",
      "\n",
      "Using gpu device 0: GeForce GT 730M (CNMeM is enabled with initial size: 70.0% of memory, cuDNN 5004)\n",
      "[2017-03-18 22:22:50,552] Making new env: ppaquette/DoomBasic-v0\n"
     ]
    }
   ],
   "source": [
    "import gym\n",
    "import ppaquette_gym_doom\n",
    "from gym.wrappers import SkipWrapper\n",
    "from ppaquette_gym_doom.wrappers.action_space import ToDiscrete\n",
    "from agentnet.experiments.openai_gym.wrappers import PreprocessImage\n",
    "GAME_NAME = 'ppaquette/DoomBasic-v0'\n",
    "\n",
    "make_env = lambda: PreprocessImage(SkipWrapper(4)(ToDiscrete(\"minimal\")(gym.make(GAME_NAME))),\n",
    "                                   width=48,height=48,grayscale=True)\n",
    "\n",
    "env = make_env()"
   ]
  },
  {
   "cell_type": "code",
   "execution_count": 3,
   "metadata": {
    "collapsed": false
   },
   "outputs": [],
   "source": [
    "#global params.\n",
    "observation_shape = env.observation_space.shape\n",
    "n_actions = env.action_space.n\n",
    "#number of parallel agents and batch sequence length (frames)\n",
    "SEQ_LENGTH = 3\n",
    "FRAME_NUMBER = 2"
   ]
  },
  {
   "cell_type": "code",
   "execution_count": 4,
   "metadata": {
    "collapsed": false
   },
   "outputs": [
    {
     "name": "stdout",
     "output_type": "stream",
     "text": [
      "-10.0 False\n"
     ]
    },
    {
     "data": {
      "text/plain": [
       "<matplotlib.image.AxesImage at 0x7f2f7007a908>"
      ]
     },
     "execution_count": 4,
     "metadata": {},
     "output_type": "execute_result"
    },
    {
     "data": {
      "image/png": "[encoded data removed]",
      "text/plain": [
       "<matplotlib.figure.Figure at 0x7f2f8bbc54e0>"
      ]
     },
     "metadata": {},
     "output_type": "display_data"
    }
   ],
   "source": [
    "env.reset()\n",
    "obs,r,done,_=env.step(1)\n",
    "print(r, done)\n",
    "plt.imshow(obs[0], cmap='gray', interpolation='none')"
   ]
  },
  {
   "cell_type": "markdown",
   "metadata": {},
   "source": [
    "# Basic agent setup\n",
    "Here we define a simple agent that maps game images into Qvalues using simple convolutional neural network.\n",
    "\n",
    "![scheme](https://s18.postimg.org/gbmsq6gmx/dqn_scheme.png)"
   ]
  },
  {
   "cell_type": "code",
   "execution_count": 5,
   "metadata": {
    "collapsed": false
   },
   "outputs": [
    {
     "name": "stdout",
     "output_type": "stream",
     "text": [
      "env: THEANO_FLAGS=device=gpu0,floatX=float32\n"
     ]
    }
   ],
   "source": [
    "#setup and import theano/lasagne. Prefer GPU\n",
    "%env THEANO_FLAGS=device=gpu0,floatX=float32\n",
    "\n",
    "import theano, lasagne\n",
    "from lasagne.layers import *\n",
    "\n",
    "from agentnet.memory import WindowAugmentation, LSTMCell\n",
    "from agentnet.resolver import EpsilonGreedyResolver\n",
    "from agentnet.target_network import TargetNetwork\n",
    "from agentnet.experiments.openai_gym.pool import EnvPool"
   ]
  },
  {
   "cell_type": "markdown",
   "metadata": {},
   "source": [
    "Now, define your NN which probably solve the environment. \n",
    "\n",
    "#### Tips:\n",
    "1. Main component are likely to be ```Conv2D``` and ```Pool2DLayer```\n",
    "2. Batch normalization here might speeds up training but may get unstable if you use small experience replay buffer\n",
    "3. Last layers should be Dense"
   ]
  },
  {
   "cell_type": "code",
   "execution_count": 6,
   "metadata": {
    "collapsed": false
   },
   "outputs": [],
   "source": [
    "from lasagne.nonlinearities import rectify, tanh, softmax\n",
    "\n",
    "#observation\n",
    "observation_layer = InputLayer((None,)+observation_shape,)\n",
    "\n",
    "#4-tick window over images\n",
    "\n",
    "prev_wnd = InputLayer((None,FRAME_NUMBER)+observation_shape) \n",
    "new_wnd = WindowAugmentation(observation_layer,prev_wnd)\n",
    "        \n",
    "#reshape to (frame, h,w). If you don't use grayscale, 4 should become 12.\n",
    "wnd_reshape = reshape(new_wnd, (-1,FRAME_NUMBER*observation_shape[0])+observation_shape[1:])\n",
    "\n",
    "\n",
    "layer = Conv2DLayer(wnd_reshape, num_filters=20, filter_size=(3, 3), \n",
    "                    nonlinearity=rectify, pad='same')\n",
    "\n",
    "layer = Conv2DLayer(layer, num_filters=40, filter_size=(3, 3), \n",
    "                    nonlinearity=rectify, pad='same')\n",
    "\n",
    "\n",
    "layer = FlattenLayer(layer)\n",
    "\n",
    "layer = DenseLayer(layer, num_units=256, nonlinearity=tanh)  \n",
    "\n",
    "dense = DenseLayer(layer, num_units=128, nonlinearity=tanh)  "
   ]
  },
  {
   "cell_type": "code",
   "execution_count": 7,
   "metadata": {
    "collapsed": false
   },
   "outputs": [],
   "source": [
    "#baseline for all qvalues\n",
    "qvalues_layer = DenseLayer(dense, num_units=n_actions, \n",
    "                           nonlinearity=None, name='qval')\n",
    "        \n",
    "#sample actions proportionally to policy_layer\n",
    "action_layer = EpsilonGreedyResolver(qvalues_layer)"
   ]
  },
  {
   "cell_type": "code",
   "execution_count": 8,
   "metadata": {
    "collapsed": false
   },
   "outputs": [],
   "source": [
    "targetnet = TargetNetwork(qvalues_layer)\n",
    "qvalues_old = targetnet.output_layers"
   ]
  },
  {
   "cell_type": "markdown",
   "metadata": {},
   "source": [
    "##### Finally, agent\n",
    "We declare that this network is and MDP agent with such and such inputs, states and outputs"
   ]
  },
  {
   "cell_type": "code",
   "execution_count": 9,
   "metadata": {
    "collapsed": false
   },
   "outputs": [],
   "source": [
    "from agentnet.agent import Agent\n",
    "#all together\n",
    "\n",
    "agent = Agent(observation_layers=observation_layer,\n",
    "              policy_estimators=(qvalues_layer,qvalues_old),\n",
    "              agent_states={new_wnd:prev_wnd},\n",
    "              action_layers=action_layer)"
   ]
  },
  {
   "cell_type": "code",
   "execution_count": 10,
   "metadata": {
    "collapsed": false
   },
   "outputs": [
    {
     "data": {
      "text/plain": [
       "[W, b, W, b, W, b, W, b, qval.W, qval.b]"
      ]
     },
     "execution_count": 10,
     "metadata": {},
     "output_type": "execute_result"
    }
   ],
   "source": [
    "#Since it's a single lasagne network, one can get it's weights, output, etc\n",
    "weights = lasagne.layers.get_all_params(action_layer,trainable=True)\n",
    "weights"
   ]
  },
  {
   "cell_type": "markdown",
   "metadata": {},
   "source": [
    "# Create and manage a pool of atari sessions to play with\n",
    "\n",
    "* To make training more stable, we shall have an entire batch of game sessions each happening independent of others\n",
    "* Why several parallel agents help training: http://arxiv.org/pdf/1602.01783v1.pdf\n",
    "* Alternative approach: store more sessions: https://www.cs.toronto.edu/~vmnih/docs/dqn.pdf"
   ]
  },
  {
   "cell_type": "code",
   "execution_count": 11,
   "metadata": {
    "collapsed": false
   },
   "outputs": [
    {
     "name": "stderr",
     "output_type": "stream",
     "text": [
      "[2017-03-18 22:22:52,036] Making new env: ppaquette/DoomBasic-v0\n",
      "[2017-03-18 22:22:52,052] Making new env: ppaquette/DoomBasic-v0\n",
      "[2017-03-18 22:22:52,070] Making new env: ppaquette/DoomBasic-v0\n",
      "[2017-03-18 22:22:52,095] Making new env: ppaquette/DoomBasic-v0\n",
      "[2017-03-18 22:22:52,115] Making new env: ppaquette/DoomBasic-v0\n"
     ]
    }
   ],
   "source": [
    "pool = EnvPool(agent,make_env, \n",
    "               n_games=5, #parallel games (only 1 so far)\n",
    "               max_size=int(1e4)) #experience replay pool holding last 1k sessions"
   ]
  },
  {
   "cell_type": "markdown",
   "metadata": {},
   "source": [
    "# Q-learning\n",
    "* An agent has a method that produces symbolic environment interaction sessions\n",
    "* Such sessions are in sequences of observations, agent memory, actions, q-values,etc\n",
    "  * one has to pre-define maximum session length.\n",
    "\n",
    "* SessionPool also stores rewards (Q-learning objective)"
   ]
  },
  {
   "cell_type": "code",
   "execution_count": 12,
   "metadata": {
    "collapsed": false
   },
   "outputs": [],
   "source": [
    "#get agent's Qvalues obtained via experience replay\n",
    "replay = pool.experience_replay.sample_session_batch(128)\n",
    "\n",
    "_,_,_,_,(qvalues_seq,old_qvalues_seq) = agent.get_sessions(\n",
    "    replay,\n",
    "    session_length=SEQ_LENGTH,\n",
    "    experience_replay=True,\n",
    ")"
   ]
  },
  {
   "cell_type": "code",
   "execution_count": 13,
   "metadata": {
    "collapsed": false
   },
   "outputs": [],
   "source": [
    "#get reference Qvalues according to Qlearning algorithm\n",
    "from agentnet.learning import qlearning\n",
    "\n",
    "#loss for Qlearning = (Q(s,a) - (r+gamma*Q(s',a_max)))^2\n",
    "elwise_mse_loss = qlearning.get_elementwise_objective(qvalues_seq,\n",
    "                                                      replay.actions[0],\n",
    "                                                      replay.rewards,\n",
    "                                                      replay.is_alive,\n",
    "                                                      qvalues_target=old_qvalues_seq,\n",
    "                                                      gamma_or_gammas=0.99)\n",
    "\n",
    "#compute mean over \"alive\" fragments\n",
    "loss = elwise_mse_loss.sum() / replay.is_alive.sum()"
   ]
  },
  {
   "cell_type": "code",
   "execution_count": 14,
   "metadata": {
    "collapsed": false
   },
   "outputs": [],
   "source": [
    "# Compute weight updates\n",
    "updates = lasagne.updates.adam(loss, weights)\n",
    "\n",
    "train_step = theano.function([],loss,updates=updates)"
   ]
  },
  {
   "cell_type": "markdown",
   "metadata": {},
   "source": [
    "# Training loop"
   ]
  },
  {
   "cell_type": "markdown",
   "metadata": {},
   "source": [
    "If you don't have ```tqdm```, remove the first line and ```tqdm_notebook``` from second line\n",
    "\n",
    "Loop may take years to finish.\n",
    "\n",
    "You may consider interrupting early."
   ]
  },
  {
   "cell_type": "code",
   "execution_count": 15,
   "metadata": {
    "collapsed": false
   },
   "outputs": [
    {
     "name": "stderr",
     "output_type": "stream",
     "text": [
      "Widget Javascript not detected.  It may not be installed properly. Did you enable the widgetsnbextension? If not, then run \"jupyter nbextension enable --py --sys-prefix widgetsnbextension\"\n",
      "/usr/local/lib/python3.4/dist-packages/agentnet/utils/logging.py:14: UserWarning: [Verbose>=1] Warning! Appending sessions to empty or broken pool. Old pool sessions, if any, are disposed.\n",
      "  default_warn(\"[Verbose>=%s] %s\"%(verbosity_level,message),**kwargs)\n"
     ]
    },
    {
     "name": "stdout",
     "output_type": "stream",
     "text": [
      "iter=10\tepsilon=0.967\treward/step=-0.89333\n",
      "iter=20\tepsilon=0.936\treward/step=-2.07667\n",
      "iter=30\tepsilon=0.905\treward/step=-2.45556\n",
      "iter=40\tepsilon=0.875\treward/step=-2.64000\n",
      "iter=50\tepsilon=0.846\treward/step=-2.46400\n",
      "iter=60\tepsilon=0.819\treward/step=-2.47889\n",
      "iter=70\tepsilon=0.792\treward/step=-2.57619\n",
      "iter=80\tepsilon=0.766\treward/step=-2.75000\n",
      "iter=90\tepsilon=0.741\treward/step=-2.90741\n"
     ]
    },
    {
     "name": "stderr",
     "output_type": "stream",
     "text": [
      "[2017-03-18 22:25:53,097] Making new env: ppaquette/DoomBasic-v0\n",
      "[2017-03-18 22:25:53,107] Clearing 2 monitor files from previous run (because force=True was provided)\n"
     ]
    },
    {
     "name": "stdout",
     "output_type": "stream",
     "text": [
      "iter=100\tepsilon=0.717\treward/step=-2.85867\n"
     ]
    },
    {
     "name": "stderr",
     "output_type": "stream",
     "text": [
      "[2017-03-18 22:25:54,031] Finished writing results. You can upload them to the scoreboard via gym.upload('/home/golovanov/repo/git/Practical_RL/week4/records')\n"
     ]
    },
    {
     "name": "stdout",
     "output_type": "stream",
     "text": [
      "Episode finished after 26 timesteps with reward=-49.0\n",
      "iter=110\tepsilon=0.693\treward/step=-2.89758\n",
      "iter=120\tepsilon=0.670\treward/step=-2.91056\n",
      "iter=130\tepsilon=0.648\treward/step=-2.93128\n",
      "iter=140\tepsilon=0.627\treward/step=-2.99810\n",
      "iter=150\tepsilon=0.607\treward/step=-2.91244\n",
      "iter=160\tepsilon=0.587\treward/step=-2.97833\n",
      "iter=170\tepsilon=0.567\treward/step=-2.90353\n",
      "iter=180\tepsilon=0.549\treward/step=-2.96259\n",
      "iter=190\tepsilon=0.531\treward/step=-3.03825\n"
     ]
    },
    {
     "name": "stderr",
     "output_type": "stream",
     "text": [
      "[2017-03-18 22:28:53,936] Making new env: ppaquette/DoomBasic-v0\n",
      "[2017-03-18 22:28:53,947] Clearing 2 monitor files from previous run (because force=True was provided)\n"
     ]
    },
    {
     "name": "stdout",
     "output_type": "stream",
     "text": [
      "iter=200\tepsilon=0.513\treward/step=-3.01833\n"
     ]
    },
    {
     "name": "stderr",
     "output_type": "stream",
     "text": [
      "[2017-03-18 22:28:55,857] Finished writing results. You can upload them to the scoreboard via gym.upload('/home/golovanov/repo/git/Practical_RL/week4/records')\n"
     ]
    },
    {
     "name": "stdout",
     "output_type": "stream",
     "text": [
      "Episode finished after 70 timesteps with reward=-435.0\n",
      "iter=210\tepsilon=0.497\treward/step=-3.03302\n",
      "iter=220\tepsilon=0.480\treward/step=-3.09364\n",
      "iter=230\tepsilon=0.465\treward/step=-3.10957\n",
      "iter=240\tepsilon=0.449\treward/step=-3.12389\n",
      "iter=250\tepsilon=0.435\treward/step=-3.12480\n",
      "iter=260\tepsilon=0.420\treward/step=-3.10769\n",
      "iter=270\tepsilon=0.407\treward/step=-3.04617\n",
      "iter=280\tepsilon=0.393\treward/step=-3.01786\n",
      "iter=290\tepsilon=0.380\treward/step=-3.01103\n"
     ]
    },
    {
     "name": "stderr",
     "output_type": "stream",
     "text": [
      "[2017-03-18 22:31:59,533] Making new env: ppaquette/DoomBasic-v0\n",
      "[2017-03-18 22:31:59,543] Clearing 2 monitor files from previous run (because force=True was provided)\n"
     ]
    },
    {
     "name": "stdout",
     "output_type": "stream",
     "text": [
      "iter=300\tepsilon=0.368\treward/step=-3.03400\n"
     ]
    },
    {
     "name": "stderr",
     "output_type": "stream",
     "text": [
      "[2017-03-18 22:32:01,488] Finished writing results. You can upload them to the scoreboard via gym.upload('/home/golovanov/repo/git/Practical_RL/week4/records')\n"
     ]
    },
    {
     "name": "stdout",
     "output_type": "stream",
     "text": [
      "Episode finished after 70 timesteps with reward=-390.0\n",
      "iter=310\tepsilon=0.356\treward/step=-2.91505\n",
      "iter=320\tepsilon=0.344\treward/step=-2.94792\n",
      "iter=330\tepsilon=0.333\treward/step=-2.96768\n",
      "iter=340\tepsilon=0.322\treward/step=-2.94353\n",
      "iter=350\tepsilon=0.311\treward/step=-2.92076\n",
      "iter=360\tepsilon=0.301\treward/step=-2.90222\n",
      "iter=370\tepsilon=0.291\treward/step=-2.92018\n",
      "iter=380\tepsilon=0.282\treward/step=-2.93632\n",
      "iter=390\tepsilon=0.273\treward/step=-2.91709\n"
     ]
    },
    {
     "name": "stderr",
     "output_type": "stream",
     "text": [
      "[2017-03-18 22:35:09,505] Making new env: ppaquette/DoomBasic-v0\n",
      "[2017-03-18 22:35:09,516] Clearing 2 monitor files from previous run (because force=True was provided)\n"
     ]
    },
    {
     "name": "stdout",
     "output_type": "stream",
     "text": [
      "iter=400\tepsilon=0.264\treward/step=-2.91650\n"
     ]
    },
    {
     "name": "stderr",
     "output_type": "stream",
     "text": [
      "[2017-03-18 22:35:11,476] Finished writing results. You can upload them to the scoreboard via gym.upload('/home/golovanov/repo/git/Practical_RL/week4/records')\n"
     ]
    },
    {
     "name": "stdout",
     "output_type": "stream",
     "text": [
      "Episode finished after 70 timesteps with reward=-370.0\n",
      "iter=410\tepsilon=0.255\treward/step=-2.82943\n",
      "iter=420\tepsilon=0.247\treward/step=-2.83095\n",
      "iter=430\tepsilon=0.239\treward/step=-2.83085\n",
      "iter=440\tepsilon=0.231\treward/step=-2.84379\n",
      "iter=450\tepsilon=0.223\treward/step=-2.84400\n",
      "iter=460\tepsilon=0.216\treward/step=-2.76942\n",
      "iter=470\tepsilon=0.209\treward/step=-2.76709\n",
      "iter=480\tepsilon=0.202\treward/step=-2.71625\n",
      "iter=490\tepsilon=0.195\treward/step=-2.65279\n"
     ]
    },
    {
     "name": "stderr",
     "output_type": "stream",
     "text": [
      "[2017-03-18 22:38:24,024] Making new env: ppaquette/DoomBasic-v0\n",
      "[2017-03-18 22:38:24,035] Clearing 2 monitor files from previous run (because force=True was provided)\n"
     ]
    },
    {
     "name": "stdout",
     "output_type": "stream",
     "text": [
      "iter=500\tepsilon=0.189\treward/step=-2.65653\n"
     ]
    },
    {
     "name": "stderr",
     "output_type": "stream",
     "text": [
      "[2017-03-18 22:38:26,006] Finished writing results. You can upload them to the scoreboard via gym.upload('/home/golovanov/repo/git/Practical_RL/week4/records')\n"
     ]
    },
    {
     "name": "stdout",
     "output_type": "stream",
     "text": [
      "Episode finished after 70 timesteps with reward=-370.0\n",
      "iter=510\tepsilon=0.183\treward/step=-2.67634\n",
      "iter=520\tepsilon=0.177\treward/step=-2.69474\n",
      "iter=530\tepsilon=0.171\treward/step=-2.65925\n",
      "iter=540\tepsilon=0.165\treward/step=-2.64284\n",
      "iter=550\tepsilon=0.160\treward/step=-2.67661\n",
      "iter=560\tepsilon=0.155\treward/step=-2.70619\n",
      "iter=570\tepsilon=0.150\treward/step=-2.63509\n",
      "iter=580\tepsilon=0.145\treward/step=-2.60012\n",
      "iter=590\tepsilon=0.140\treward/step=-2.57887\n"
     ]
    },
    {
     "name": "stderr",
     "output_type": "stream",
     "text": [
      "[2017-03-18 22:41:42,777] Making new env: ppaquette/DoomBasic-v0\n",
      "[2017-03-18 22:41:42,788] Clearing 2 monitor files from previous run (because force=True was provided)\n"
     ]
    },
    {
     "name": "stdout",
     "output_type": "stream",
     "text": [
      "iter=600\tepsilon=0.135\treward/step=-2.46478\n"
     ]
    },
    {
     "name": "stderr",
     "output_type": "stream",
     "text": [
      "[2017-03-18 22:41:43,332] Finished writing results. You can upload them to the scoreboard via gym.upload('/home/golovanov/repo/git/Practical_RL/week4/records')\n"
     ]
    },
    {
     "name": "stdout",
     "output_type": "stream",
     "text": [
      "Episode finished after 10 timesteps with reward=47.0\n",
      "iter=610\tepsilon=0.131\treward/step=-2.44546\n",
      "iter=620\tepsilon=0.127\treward/step=-2.36054\n",
      "iter=630\tepsilon=0.122\treward/step=-2.33270\n",
      "iter=640\tepsilon=0.118\treward/step=-2.26344\n",
      "iter=650\tepsilon=0.115\treward/step=-2.17210\n",
      "iter=660\tepsilon=0.111\treward/step=-2.15909\n",
      "iter=670\tepsilon=0.107\treward/step=-2.11483\n",
      "iter=680\tepsilon=0.104\treward/step=-2.01971\n",
      "iter=690\tepsilon=0.100\treward/step=-2.00995\n"
     ]
    },
    {
     "name": "stderr",
     "output_type": "stream",
     "text": [
      "[2017-03-18 22:45:04,479] Making new env: ppaquette/DoomBasic-v0\n",
      "[2017-03-18 22:45:04,490] Clearing 2 monitor files from previous run (because force=True was provided)\n"
     ]
    },
    {
     "name": "stdout",
     "output_type": "stream",
     "text": [
      "iter=700\tepsilon=0.097\treward/step=-1.95962\n"
     ]
    },
    {
     "name": "stderr",
     "output_type": "stream",
     "text": [
      "[2017-03-18 22:45:04,928] Finished writing results. You can upload them to the scoreboard via gym.upload('/home/golovanov/repo/git/Practical_RL/week4/records')\n"
     ]
    },
    {
     "name": "stdout",
     "output_type": "stream",
     "text": [
      "Episode finished after 5 timesteps with reward=76.0\n",
      "iter=710\tepsilon=0.094\treward/step=-1.94958\n",
      "iter=720\tepsilon=0.091\treward/step=-1.91083\n",
      "iter=730\tepsilon=0.088\treward/step=-1.86521\n",
      "iter=740\tepsilon=0.085\treward/step=-1.82910\n",
      "iter=750\tepsilon=0.082\treward/step=-1.79298\n",
      "iter=760\tepsilon=0.079\treward/step=-1.80526\n",
      "iter=770\tepsilon=0.077\treward/step=-1.79931\n",
      "iter=780\tepsilon=0.074\treward/step=-1.78402\n",
      "iter=790\tepsilon=0.072\treward/step=-1.75975\n"
     ]
    },
    {
     "name": "stderr",
     "output_type": "stream",
     "text": [
      "[2017-03-18 22:48:31,147] Making new env: ppaquette/DoomBasic-v0\n",
      "[2017-03-18 22:48:31,157] Clearing 2 monitor files from previous run (because force=True was provided)\n"
     ]
    },
    {
     "name": "stdout",
     "output_type": "stream",
     "text": [
      "iter=800\tepsilon=0.069\treward/step=-1.71883\n"
     ]
    },
    {
     "name": "stderr",
     "output_type": "stream",
     "text": [
      "[2017-03-18 22:48:31,701] Finished writing results. You can upload them to the scoreboard via gym.upload('/home/golovanov/repo/git/Practical_RL/week4/records')\n"
     ]
    },
    {
     "name": "stdout",
     "output_type": "stream",
     "text": [
      "Episode finished after 11 timesteps with reward=46.0\n",
      "iter=810\tepsilon=0.067\treward/step=-1.67021\n",
      "iter=820\tepsilon=0.065\treward/step=-1.62268\n",
      "iter=830\tepsilon=0.063\treward/step=-1.57679\n",
      "iter=840\tepsilon=0.061\treward/step=-1.51516\n",
      "iter=850\tepsilon=0.059\treward/step=-1.46212\n",
      "iter=860\tepsilon=0.057\treward/step=-1.39574\n",
      "iter=870\tepsilon=0.055\treward/step=-1.30429\n",
      "iter=880\tepsilon=0.053\treward/step=-1.24886\n",
      "iter=890\tepsilon=0.051\treward/step=-1.12285\n"
     ]
    },
    {
     "name": "stderr",
     "output_type": "stream",
     "text": [
      "[2017-03-18 22:52:04,102] Making new env: ppaquette/DoomBasic-v0\n",
      "[2017-03-18 22:52:04,113] Clearing 2 monitor files from previous run (because force=True was provided)\n"
     ]
    },
    {
     "name": "stdout",
     "output_type": "stream",
     "text": [
      "iter=900\tepsilon=0.050\treward/step=-1.03896\n"
     ]
    },
    {
     "name": "stderr",
     "output_type": "stream",
     "text": [
      "[2017-03-18 22:52:04,420] Finished writing results. You can upload them to the scoreboard via gym.upload('/home/golovanov/repo/git/Practical_RL/week4/records')\n"
     ]
    },
    {
     "name": "stdout",
     "output_type": "stream",
     "text": [
      "Episode finished after 1 timesteps with reward=96.0\n",
      "iter=910\tepsilon=0.048\treward/step=-0.94901\n",
      "iter=920\tepsilon=0.047\treward/step=-0.89283\n",
      "iter=930\tepsilon=0.045\treward/step=-0.79090\n",
      "iter=940\tepsilon=0.044\treward/step=-0.71369\n",
      "iter=950\tepsilon=0.042\treward/step=-0.62393\n",
      "iter=960\tepsilon=0.041\treward/step=-0.54208\n",
      "iter=970\tepsilon=0.039\treward/step=-0.44825\n",
      "iter=980\tepsilon=0.038\treward/step=-0.34857\n",
      "iter=990\tepsilon=0.037\treward/step=-0.28108\n"
     ]
    },
    {
     "name": "stderr",
     "output_type": "stream",
     "text": [
      "[2017-03-18 22:55:42,851] Making new env: ppaquette/DoomBasic-v0\n",
      "[2017-03-18 22:55:42,862] Clearing 2 monitor files from previous run (because force=True was provided)\n"
     ]
    },
    {
     "name": "stdout",
     "output_type": "stream",
     "text": [
      "iter=1000\tepsilon=0.036\treward/step=-0.19300\n"
     ]
    },
    {
     "name": "stderr",
     "output_type": "stream",
     "text": [
      "[2017-03-18 22:55:43,362] Finished writing results. You can upload them to the scoreboard via gym.upload('/home/golovanov/repo/git/Practical_RL/week4/records')\n"
     ]
    },
    {
     "name": "stdout",
     "output_type": "stream",
     "text": [
      "Episode finished after 9 timesteps with reward=52.0\n",
      "iter=1010\tepsilon=0.035\treward/step=-0.10528\n",
      "iter=1020\tepsilon=0.033\treward/step=-0.00627\n",
      "iter=1030\tepsilon=0.032\treward/step=0.08343\n",
      "iter=1040\tepsilon=0.031\treward/step=0.16481\n",
      "iter=1050\tepsilon=0.030\treward/step=0.22425\n",
      "iter=1060\tepsilon=0.029\treward/step=0.30208\n",
      "iter=1070\tepsilon=0.028\treward/step=0.37159\n",
      "iter=1080\tepsilon=0.027\treward/step=0.44673\n",
      "iter=1090\tepsilon=0.026\treward/step=0.50795\n"
     ]
    },
    {
     "name": "stderr",
     "output_type": "stream",
     "text": [
      "[2017-03-18 22:59:30,017] Making new env: ppaquette/DoomBasic-v0\n",
      "[2017-03-18 22:59:30,028] Clearing 2 monitor files from previous run (because force=True was provided)\n"
     ]
    },
    {
     "name": "stdout",
     "output_type": "stream",
     "text": [
      "iter=1100\tepsilon=0.026\treward/step=0.55430\n"
     ]
    },
    {
     "name": "stderr",
     "output_type": "stream",
     "text": [
      "[2017-03-18 22:59:30,498] Finished writing results. You can upload them to the scoreboard via gym.upload('/home/golovanov/repo/git/Practical_RL/week4/records')\n"
     ]
    },
    {
     "name": "stdout",
     "output_type": "stream",
     "text": [
      "Episode finished after 8 timesteps with reward=57.0\n",
      "iter=1110\tepsilon=0.025\treward/step=0.61165\n",
      "iter=1120\tepsilon=0.024\treward/step=0.68137\n",
      "iter=1130\tepsilon=0.023\treward/step=0.72631\n",
      "iter=1140\tepsilon=0.022\treward/step=0.78135\n",
      "iter=1150\tepsilon=0.022\treward/step=0.84887\n",
      "iter=1160\tepsilon=0.021\treward/step=0.90793\n",
      "iter=1170\tepsilon=0.020\treward/step=0.96678\n",
      "iter=1180\tepsilon=0.020\treward/step=1.03068\n",
      "iter=1190\tepsilon=0.019\treward/step=1.08667\n"
     ]
    },
    {
     "name": "stderr",
     "output_type": "stream",
     "text": [
      "[2017-03-18 23:03:26,067] Making new env: ppaquette/DoomBasic-v0\n",
      "[2017-03-18 23:03:26,077] Clearing 2 monitor files from previous run (because force=True was provided)\n"
     ]
    },
    {
     "name": "stdout",
     "output_type": "stream",
     "text": [
      "iter=1200\tepsilon=0.018\treward/step=1.13611\n"
     ]
    },
    {
     "name": "stderr",
     "output_type": "stream",
     "text": [
      "[2017-03-18 23:03:26,382] Finished writing results. You can upload them to the scoreboard via gym.upload('/home/golovanov/repo/git/Practical_RL/week4/records')\n"
     ]
    },
    {
     "name": "stdout",
     "output_type": "stream",
     "text": [
      "Episode finished after 1 timesteps with reward=96.0\n",
      "iter=1210\tepsilon=0.018\treward/step=1.19107\n",
      "iter=1220\tepsilon=0.017\treward/step=1.23913\n",
      "iter=1230\tepsilon=0.017\treward/step=1.27491\n",
      "iter=1240\tepsilon=0.016\treward/step=1.33339\n",
      "iter=1250\tepsilon=0.016\treward/step=1.40709\n",
      "iter=1260\tepsilon=0.015\treward/step=1.46878\n",
      "iter=1270\tepsilon=0.015\treward/step=1.51958\n",
      "iter=1280\tepsilon=0.014\treward/step=1.56203\n",
      "iter=1290\tepsilon=0.014\treward/step=1.61581\n"
     ]
    },
    {
     "name": "stderr",
     "output_type": "stream",
     "text": [
      "[2017-03-18 23:07:39,361] Making new env: ppaquette/DoomBasic-v0\n",
      "[2017-03-18 23:07:39,372] Clearing 2 monitor files from previous run (because force=True was provided)\n"
     ]
    },
    {
     "name": "stdout",
     "output_type": "stream",
     "text": [
      "iter=1300\tepsilon=0.013\treward/step=1.67944\n"
     ]
    },
    {
     "name": "stderr",
     "output_type": "stream",
     "text": [
      "[2017-03-18 23:07:39,678] Finished writing results. You can upload them to the scoreboard via gym.upload('/home/golovanov/repo/git/Practical_RL/week4/records')\n"
     ]
    },
    {
     "name": "stdout",
     "output_type": "stream",
     "text": [
      "Episode finished after 1 timesteps with reward=96.0\n",
      "iter=1310\tepsilon=0.013\treward/step=1.73684\n",
      "iter=1320\tepsilon=0.012\treward/step=1.78737\n",
      "iter=1330\tepsilon=0.012\treward/step=1.84301\n",
      "iter=1340\tepsilon=0.011\treward/step=1.91517\n",
      "iter=1350\tepsilon=0.011\treward/step=1.97427\n",
      "iter=1360\tepsilon=0.011\treward/step=2.02784\n",
      "iter=1370\tepsilon=0.010\treward/step=2.11182\n",
      "iter=1380\tepsilon=0.010\treward/step=2.15338\n",
      "iter=1390\tepsilon=0.010\treward/step=2.20000\n"
     ]
    },
    {
     "name": "stderr",
     "output_type": "stream",
     "text": [
      "[2017-03-18 23:12:08,373] Making new env: ppaquette/DoomBasic-v0\n",
      "[2017-03-18 23:12:08,392] Clearing 2 monitor files from previous run (because force=True was provided)\n"
     ]
    },
    {
     "name": "stdout",
     "output_type": "stream",
     "text": [
      "iter=1400\tepsilon=0.009\treward/step=2.25529\n"
     ]
    },
    {
     "name": "stderr",
     "output_type": "stream",
     "text": [
      "[2017-03-18 23:12:09,004] Finished writing results. You can upload them to the scoreboard via gym.upload('/home/golovanov/repo/git/Practical_RL/week4/records')\n"
     ]
    },
    {
     "name": "stdout",
     "output_type": "stream",
     "text": [
      "Episode finished after 4 timesteps with reward=81.0\n",
      "iter=1410\tepsilon=0.009\treward/step=2.31551\n",
      "iter=1420\tepsilon=0.009\treward/step=2.37986\n",
      "iter=1430\tepsilon=0.009\treward/step=2.42317\n",
      "iter=1440\tepsilon=0.008\treward/step=2.47120\n",
      "iter=1450\tepsilon=0.008\treward/step=2.52280\n",
      "iter=1460\tepsilon=0.008\treward/step=2.55954\n",
      "iter=1470\tepsilon=0.007\treward/step=2.60027\n",
      "iter=1480\tepsilon=0.007\treward/step=2.66036\n",
      "iter=1490\tepsilon=0.007\treward/step=2.71937\n"
     ]
    },
    {
     "name": "stderr",
     "output_type": "stream",
     "text": [
      "[2017-03-18 23:17:50,987] Making new env: ppaquette/DoomBasic-v0\n",
      "[2017-03-18 23:17:51,007] Clearing 2 monitor files from previous run (because force=True was provided)\n"
     ]
    },
    {
     "name": "stdout",
     "output_type": "stream",
     "text": [
      "iter=1500\tepsilon=0.007\treward/step=2.75338\n"
     ]
    },
    {
     "name": "stderr",
     "output_type": "stream",
     "text": [
      "[2017-03-18 23:17:51,596] Finished writing results. You can upload them to the scoreboard via gym.upload('/home/golovanov/repo/git/Practical_RL/week4/records')\n"
     ]
    },
    {
     "name": "stdout",
     "output_type": "stream",
     "text": [
      "Episode finished after 4 timesteps with reward=81.0\n",
      "iter=1510\tepsilon=0.007\treward/step=2.81139\n",
      "iter=1520\tepsilon=0.006\treward/step=2.86311\n",
      "iter=1530\tepsilon=0.006\treward/step=2.89181\n",
      "iter=1540\tepsilon=0.006\treward/step=2.93303\n",
      "iter=1550\tepsilon=0.006\treward/step=2.97944\n",
      "iter=1560\tepsilon=0.006\treward/step=3.03829\n",
      "iter=1570\tepsilon=0.005\treward/step=3.07843\n",
      "iter=1580\tepsilon=0.005\treward/step=3.12232\n",
      "iter=1590\tepsilon=0.005\treward/step=3.17895\n"
     ]
    },
    {
     "name": "stderr",
     "output_type": "stream",
     "text": [
      "[2017-03-18 23:23:16,404] Making new env: ppaquette/DoomBasic-v0\n",
      "[2017-03-18 23:23:16,415] Clearing 2 monitor files from previous run (because force=True was provided)\n"
     ]
    },
    {
     "name": "stdout",
     "output_type": "stream",
     "text": [
      "iter=1600\tepsilon=0.005\treward/step=3.22196\n"
     ]
    },
    {
     "name": "stderr",
     "output_type": "stream",
     "text": [
      "[2017-03-18 23:23:16,875] Finished writing results. You can upload them to the scoreboard via gym.upload('/home/golovanov/repo/git/Practical_RL/week4/records')\n"
     ]
    },
    {
     "name": "stdout",
     "output_type": "stream",
     "text": [
      "Episode finished after 4 timesteps with reward=81.0\n",
      "iter=1610\tepsilon=0.005\treward/step=3.27342\n",
      "iter=1620\tepsilon=0.005\treward/step=3.32428\n",
      "iter=1630\tepsilon=0.004\treward/step=3.36973\n",
      "iter=1640\tepsilon=0.004\treward/step=3.41504\n",
      "iter=1650\tepsilon=0.004\treward/step=3.46000\n",
      "iter=1660\tepsilon=0.004\treward/step=3.50831\n",
      "iter=1670\tepsilon=0.004\treward/step=3.54743\n",
      "iter=1680\tepsilon=0.004\treward/step=3.57817\n",
      "iter=1690\tepsilon=0.004\treward/step=3.62020\n"
     ]
    },
    {
     "name": "stderr",
     "output_type": "stream",
     "text": [
      "[2017-03-18 23:28:55,773] Making new env: ppaquette/DoomBasic-v0\n",
      "[2017-03-18 23:28:55,785] Clearing 2 monitor files from previous run (because force=True was provided)\n"
     ]
    },
    {
     "name": "stdout",
     "output_type": "stream",
     "text": [
      "iter=1700\tepsilon=0.003\treward/step=3.65847\n"
     ]
    },
    {
     "name": "stderr",
     "output_type": "stream",
     "text": [
      "[2017-03-18 23:28:56,249] Finished writing results. You can upload them to the scoreboard via gym.upload('/home/golovanov/repo/git/Practical_RL/week4/records')\n"
     ]
    },
    {
     "name": "stdout",
     "output_type": "stream",
     "text": [
      "Episode finished after 4 timesteps with reward=81.0\n",
      "\n"
     ]
    },
    {
     "ename": "KeyboardInterrupt",
     "evalue": "",
     "output_type": "error",
     "traceback": [
      "\u001b[0;31m---------------------------------------------------------------------------\u001b[0m",
      "\u001b[0;31mKeyboardInterrupt\u001b[0m                         Traceback (most recent call last)",
      "\u001b[0;32m<ipython-input-15-dcc2d0a0e676>\u001b[0m in \u001b[0;36m<module>\u001b[0;34m()\u001b[0m\n\u001b[1;32m     11\u001b[0m \u001b[0;34m\u001b[0m\u001b[0m\n\u001b[1;32m     12\u001b[0m     \u001b[0;31m#train\u001b[0m\u001b[0;34m\u001b[0m\u001b[0;34m\u001b[0m\u001b[0m\n\u001b[0;32m---> 13\u001b[0;31m     \u001b[0mpool\u001b[0m\u001b[0;34m.\u001b[0m\u001b[0mupdate\u001b[0m\u001b[0;34m(\u001b[0m\u001b[0mSEQ_LENGTH\u001b[0m\u001b[0;34m,\u001b[0m\u001b[0mappend\u001b[0m\u001b[0;34m=\u001b[0m\u001b[0;32mTrue\u001b[0m\u001b[0;34m)\u001b[0m\u001b[0;34m\u001b[0m\u001b[0m\n\u001b[0m\u001b[1;32m     14\u001b[0m \u001b[0;34m\u001b[0m\u001b[0m\n\u001b[1;32m     15\u001b[0m     \u001b[0mloss\u001b[0m \u001b[0;34m=\u001b[0m \u001b[0mtrain_step\u001b[0m\u001b[0;34m(\u001b[0m\u001b[0;34m)\u001b[0m\u001b[0;34m\u001b[0m\u001b[0m\n",
      "\u001b[0;32m/usr/local/lib/python3.4/dist-packages/agentnet/experiments/openai_gym/pool.py\u001b[0m in \u001b[0;36mupdate\u001b[0;34m(self, n_steps, append, max_size, add_last_observation, preprocess)\u001b[0m\n\u001b[1;32m    204\u001b[0m             self.experience_replay.append_sessions(observation_tensor, action_tensor, reward_tensor,\n\u001b[1;32m    205\u001b[0m                                                    \u001b[0mis_alive_tensor\u001b[0m\u001b[0;34m,\u001b[0m \u001b[0mpreceding_memory_states\u001b[0m\u001b[0;34m,\u001b[0m\u001b[0;34m\u001b[0m\u001b[0m\n\u001b[0;32m--> 206\u001b[0;31m                                                    max_pool_size=max_size or self.max_size)\n\u001b[0m\u001b[1;32m    207\u001b[0m \u001b[0;34m\u001b[0m\u001b[0m\n\u001b[1;32m    208\u001b[0m     def evaluate(self, n_games=1, save_path=\"./records\", use_monitor=True, record_video=True, verbose=True,\n",
      "\u001b[0;32m/usr/local/lib/python3.4/dist-packages/agentnet/environment/session_pool.py\u001b[0m in \u001b[0;36mappend_sessions\u001b[0;34m(self, observation_sequences, action_sequences, reward_seq, is_alive, prev_memories, max_pool_size)\u001b[0m\n\u001b[1;32m    245\u001b[0m                 prev_memory_tensors = [np.concatenate((prev_mem.get_value(), new_prev_mem), axis=0)\n\u001b[1;32m    246\u001b[0m                                            \u001b[0;32mfor\u001b[0m \u001b[0mprev_mem\u001b[0m\u001b[0;34m,\u001b[0m \u001b[0mnew_prev_mem\u001b[0m \u001b[0;32min\u001b[0m\u001b[0;34m\u001b[0m\u001b[0m\n\u001b[0;32m--> 247\u001b[0;31m                                            zip(self.preceding_agent_memories, prev_memories)]\n\u001b[0m\u001b[1;32m    248\u001b[0m             \u001b[0;32melse\u001b[0m\u001b[0;34m:\u001b[0m\u001b[0;34m\u001b[0m\u001b[0m\n\u001b[1;32m    249\u001b[0m                 \u001b[0mprev_memory_tensors\u001b[0m \u001b[0;34m=\u001b[0m \u001b[0;32mNone\u001b[0m\u001b[0;34m\u001b[0m\u001b[0m\n",
      "\u001b[0;32m/usr/local/lib/python3.4/dist-packages/agentnet/environment/session_pool.py\u001b[0m in \u001b[0;36m<listcomp>\u001b[0;34m(.0)\u001b[0m\n\u001b[1;32m    244\u001b[0m             \u001b[0;32mif\u001b[0m \u001b[0mprev_memories\u001b[0m \u001b[0;32mis\u001b[0m \u001b[0;32mnot\u001b[0m \u001b[0;32mNone\u001b[0m\u001b[0;34m:\u001b[0m\u001b[0;34m\u001b[0m\u001b[0m\n\u001b[1;32m    245\u001b[0m                 prev_memory_tensors = [np.concatenate((prev_mem.get_value(), new_prev_mem), axis=0)\n\u001b[0;32m--> 246\u001b[0;31m                                            \u001b[0;32mfor\u001b[0m \u001b[0mprev_mem\u001b[0m\u001b[0;34m,\u001b[0m \u001b[0mnew_prev_mem\u001b[0m \u001b[0;32min\u001b[0m\u001b[0;34m\u001b[0m\u001b[0m\n\u001b[0m\u001b[1;32m    247\u001b[0m                                            zip(self.preceding_agent_memories, prev_memories)]\n\u001b[1;32m    248\u001b[0m             \u001b[0;32melse\u001b[0m\u001b[0;34m:\u001b[0m\u001b[0;34m\u001b[0m\u001b[0m\n",
      "\u001b[0;31mKeyboardInterrupt\u001b[0m: "
     ]
    }
   ],
   "source": [
    "from tqdm import trange, tqdm_notebook\n",
    "#the loop may take eons to finish.\n",
    "#consider interrupting early.\n",
    "\n",
    "epoch_counter = 1\n",
    "rewards = {}\n",
    "action_layer.epsilon.set_value(1.0)\n",
    "\n",
    "for i in tqdm_notebook(range(10000)):  \n",
    "    \n",
    "    \n",
    "    #train\n",
    "    pool.update(SEQ_LENGTH,append=True)\n",
    "    \n",
    "    loss = train_step()\n",
    "    \n",
    "    targetnet.load_weights(0.05)\n",
    "    \n",
    "    ##update resolver's epsilon (chance of random action instead of optimal one)\n",
    "    current_epsilon = 1.0 * np.exp(-epoch_counter/300.)\n",
    "    action_layer.epsilon.set_value(np.float32(current_epsilon))\n",
    "    \n",
    "    if epoch_counter % 10 == 0:\n",
    "        #average reward per game tick in current experience replay pool\n",
    "        pool_mean_reward = pool.experience_replay.rewards.get_value().mean()\n",
    "        print(\"iter=%i\\tepsilon=%.3f\\treward/step=%.5f\"%(epoch_counter,\n",
    "                                                         current_epsilon,\n",
    "                                                         pool_mean_reward))\n",
    "        \n",
    "    ##record current learning progress and show learning curves\n",
    "    if epoch_counter%100 == 0:\n",
    "        rewards[epoch_counter] = pool.evaluate(record_video=False)\n",
    "    \n",
    "    epoch_counter  += 1\n",
    "\n",
    "    \n",
    "# Time to drink some coffee!"
   ]
  },
  {
   "cell_type": "markdown",
   "metadata": {},
   "source": [
    "##### Evaluating results\n",
    " * Here we plot learning curves and sample testimonials"
   ]
  },
  {
   "cell_type": "code",
   "execution_count": 24,
   "metadata": {
    "collapsed": false
   },
   "outputs": [
    {
     "data": {
      "text/plain": [
       "[<matplotlib.lines.Line2D at 0x7f2f1d5dbcc0>]"
      ]
     },
     "execution_count": 24,
     "metadata": {},
     "output_type": "execute_result"
    },
    {
     "data": {
      "image/png": "[encoded data removed]",
      "text/plain": [
       "<matplotlib.figure.Figure at 0x7f2f1d6422b0>"
      ]
     },
     "metadata": {},
     "output_type": "display_data"
    }
   ],
   "source": [
    "time,rw = zip(*sorted(list(rewards.items()),key=lambda p:p[0]))\n",
    "plt.plot(time,list(map(np.mean,rw)))\n",
    "    "
   ]
  },
  {
   "cell_type": "code",
   "execution_count": 17,
   "metadata": {
    "collapsed": false
   },
   "outputs": [
    {
     "name": "stderr",
     "output_type": "stream",
     "text": [
      "[2017-03-18 23:29:27,435] Making new env: ppaquette/DoomBasic-v0\n",
      "[2017-03-18 23:29:27,453] Clearing 2 monitor files from previous run (because force=True was provided)\n",
      "[2017-03-18 23:29:27,811] Starting new video recorder writing to /home/golovanov/repo/git/Practical_RL/week4/records/openaigym.video.17.29863.video000000.mp4\n",
      "[2017-03-18 23:29:28,176] Starting new video recorder writing to /home/golovanov/repo/git/Practical_RL/week4/records/openaigym.video.17.29863.video000001.mp4\n"
     ]
    },
    {
     "name": "stdout",
     "output_type": "stream",
     "text": [
      "Episode finished after 3 timesteps with reward=86.0\n",
      "Episode finished after 1 timesteps with reward=96.0\n",
      "Episode finished after 1 timesteps with reward=96.0\n",
      "Episode finished after 4 timesteps with reward=81.0\n",
      "Episode finished after 3 timesteps with reward=86.0\n",
      "Episode finished after 1 timesteps with reward=96.0\n"
     ]
    },
    {
     "name": "stderr",
     "output_type": "stream",
     "text": [
      "[2017-03-18 23:29:28,941] Starting new video recorder writing to /home/golovanov/repo/git/Practical_RL/week4/records/openaigym.video.17.29863.video000008.mp4\n"
     ]
    },
    {
     "name": "stdout",
     "output_type": "stream",
     "text": [
      "Episode finished after 4 timesteps with reward=81.0\n",
      "Episode finished after 2 timesteps with reward=91.0\n",
      "Episode finished after 7 timesteps with reward=66.0\n",
      "Episode finished after 3 timesteps with reward=86.0\n",
      "Episode finished after 7 timesteps with reward=66.0\n",
      "Episode finished after 6 timesteps with reward=71.0\n",
      "Episode finished after 3 timesteps with reward=86.0\n",
      "Episode finished after 6 timesteps with reward=71.0\n",
      "Episode finished after 6 timesteps with reward=71.0\n",
      "Episode finished after 9 timesteps with reward=52.0\n",
      "Episode finished after 3 timesteps with reward=86.0\n",
      "Episode finished after 4 timesteps with reward=81.0\n",
      "Episode finished after 5 timesteps with reward=76.0\n"
     ]
    },
    {
     "name": "stderr",
     "output_type": "stream",
     "text": [
      "[2017-03-18 23:29:31,806] Finished writing results. You can upload them to the scoreboard via gym.upload('/home/golovanov/repo/git/Practical_RL/week4/records')\n"
     ]
    },
    {
     "name": "stdout",
     "output_type": "stream",
     "text": [
      "Episode finished after 1 timesteps with reward=96.0\n",
      "mean session score=81.050000.5\n"
     ]
    }
   ],
   "source": [
    "action_layer.epsilon.set_value(0.001)\n",
    "rw = pool.evaluate(n_games=20,save_path=\"./records\",record_video=True)\n",
    "print(\"mean session score=%f.5\"%np.mean(rw))"
   ]
  },
  {
   "cell_type": "code",
   "execution_count": 22,
   "metadata": {
    "collapsed": true
   },
   "outputs": [],
   "source": [
    "from agentnet.utils.persistence import save,load\n",
    "#save for display\n",
    "#save(action_layer,\"doombasic_dqn_2000.pcl\")"
   ]
  },
  {
   "cell_type": "code",
   "execution_count": 25,
   "metadata": {
    "collapsed": false
   },
   "outputs": [
    {
     "data": {
      "text/html": [
       "\n",
       "<video width=\"640\" height=\"480\" controls>\n",
       "  <source src=\"./records/openaigym.video.17.29863.video000008.mp4\" type=\"video/mp4\">\n",
       "</video>\n"
      ],
      "text/plain": [
       "<IPython.core.display.HTML object>"
      ]
     },
     "execution_count": 25,
     "metadata": {},
     "output_type": "execute_result"
    }
   ],
   "source": [
    "from IPython.display import HTML\n",
    "import os\n",
    "from random import choice\n",
    "#select the one you want\n",
    "videos = list(filter(lambda s:s.endswith(\".mp4\"),os.listdir(\"./records/\")))\n",
    "video_path=\"./records/\"+choice(videos)\n",
    "\n",
    "HTML(\"\"\"\n",
    "<video width=\"640\" height=\"480\" controls>\n",
    "  <source src=\"{}\" type=\"video/mp4\">\n",
    "</video>\n",
    "\"\"\".format(video_path))\n"
   ]
  },
  {
   "cell_type": "markdown",
   "metadata": {},
   "source": [
    "## Homework II\n",
    "Get it work. We want stable positive score :)"
   ]
  },
  {
   "cell_type": "markdown",
   "metadata": {},
   "source": [
    "## Bonus assignment II\n",
    "* Better env\n",
    "  * Switch to DoomDefendCenter, DoomHealthGathering, DoomDeathmatch __or__ any atari game you want.\n",
    "  * Try to get `better_than_random` score on any of those environments __(2+++ pts)__\n",
    "  * Deploy a better network. Doom will likely need some recurrent netsle\n",
    "     * Find an arcitecture which maxsimizes score __(bonus points depend on your ```mean_reward```)__  \n",
    "     * Bonus can get large as you approach state-of-the-art\n",
    "     \n",
    "* Deploy a different RL algorithm\n",
    "  * Try at least two RL algorithms which had been learned during the course and try to compare them on ```mean_reward``` with similar training time (**plot** or **table** would be good idea) __(3 pts)__\n",
    "  * See the note in assignment 4.1 on how to train on-policy\n",
    "  \n",
    "  \n"
   ]
  },
  {
   "cell_type": "code",
   "execution_count": null,
   "metadata": {
    "collapsed": true
   },
   "outputs": [],
   "source": []
  }
 ],
 "metadata": {
  "anaconda-cloud": {},
  "kernelspec": {
   "display_name": "Python 3",
   "language": "python",
   "name": "python3"
  },
  "language_info": {
   "codemirror_mode": {
    "name": "ipython",
    "version": 3
   },
   "file_extension": ".py",
   "mimetype": "text/x-python",
   "name": "python",
   "nbconvert_exporter": "python",
   "pygments_lexer": "ipython3",
   "version": "3.4.3"
  }
 },
 "nbformat": 4,
 "nbformat_minor": 0
}
