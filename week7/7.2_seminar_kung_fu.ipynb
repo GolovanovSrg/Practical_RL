{
 "cells": [
  {
   "cell_type": "code",
   "execution_count": null,
   "metadata": {
    "collapsed": true,
    "deletable": true,
    "editable": true
   },
   "outputs": [],
   "source": [
    "from __future__ import print_function, division"
   ]
  },
  {
   "cell_type": "code",
   "execution_count": null,
   "metadata": {
    "collapsed": true,
    "deletable": true,
    "editable": true
   },
   "outputs": [],
   "source": [
    "#If you are running on a server, launch xvfb to record game videos\n",
    "#Please make sure you have xvfb installed\n",
    "import os\n",
    "if os.environ.get(\"DISPLAY\") is str and len(os.environ.get(\"DISPLAY\"))!=0:\n",
    "    !bash ../xvfb start\n",
    "    %env DISPLAY=:1"
   ]
  },
  {
   "cell_type": "markdown",
   "metadata": {
    "deletable": true,
    "editable": true
   },
   "source": [
    "If you are new to this course and want more instructions on how to set up environement and all the libs (docker / windows / gpu / blas / etc.), you could read [vital instructions here](https://github.com/yandexdataschool/Practical_RL/issues/1#issue-202648393). \n",
    "\n",
    "Please make sure that your have bleeding edge versions of Theano, Lasagne and Agentnet."
   ]
  },
  {
   "cell_type": "markdown",
   "metadata": {
    "deletable": true,
    "editable": true
   },
   "source": [
    "# General purpose libs import"
   ]
  },
  {
   "cell_type": "code",
   "execution_count": 3,
   "metadata": {
    "collapsed": false,
    "deletable": true,
    "editable": true
   },
   "outputs": [],
   "source": [
    "import matplotlib.pyplot as plt\n",
    "import numpy as np\n",
    "%matplotlib inline\n",
    "from timeit import default_timer as timer\n",
    "\n",
    "from IPython.core import  display"
   ]
  },
  {
   "cell_type": "code",
   "execution_count": 4,
   "metadata": {
    "collapsed": false,
    "deletable": true,
    "editable": true
   },
   "outputs": [
    {
     "name": "stdout",
     "output_type": "stream",
     "text": [
      "env: THEANO_FLAGS=device=gpu1,floatX=float32\n"
     ]
    }
   ],
   "source": [
    "# if you have  GPU uncomment the line below \n",
    "%env THEANO_FLAGS=device=gpu1,floatX=float32"
   ]
  },
  {
   "cell_type": "markdown",
   "metadata": {
    "deletable": true,
    "editable": true
   },
   "source": [
    "Universal collection of a gentleman:"
   ]
  },
  {
   "cell_type": "code",
   "execution_count": 5,
   "metadata": {
    "collapsed": false,
    "deletable": true,
    "editable": true
   },
   "outputs": [
    {
     "name": "stderr",
     "output_type": "stream",
     "text": [
      "[2017-04-18 20:20:34,105] The cuda backend is deprecated and will be removed in the next release (v0.10).  Please switch to the gpuarray backend. You can get more information about how to switch at this URL:\n",
      " https://github.com/Theano/Theano/wiki/Converting-to-the-new-gpu-back-end%28gpuarray%29\n",
      "\n",
      "Using gpu device 1: Tesla K80 (CNMeM is enabled with initial size: 19.0% of memory, cuDNN 5110)\n"
     ]
    }
   ],
   "source": [
    "import gym\n",
    "\n",
    "from agentnet.agent import Agent\n",
    "from agentnet.experiments.openai_gym.wrappers import PreprocessImage\n",
    "from agentnet.memory import WindowAugmentation, LSTMCell, GRUCell\n",
    "from agentnet.target_network import TargetNetwork\n",
    "from agentnet.resolver import EpsilonGreedyResolver, ProbabilisticResolver\n",
    "from agentnet.experiments.openai_gym.pool import EnvPool\n",
    "from agentnet.learning import qlearning\n",
    "\n",
    "from gym.wrappers import SkipWrapper\n",
    "from gym.wrappers import TimeLimit\n",
    "\n",
    "import theano\n",
    "import theano.tensor as T \n",
    "\n",
    "import lasagne\n",
    "from lasagne.layers import DenseLayer, Conv2DLayer, InputLayer, NonlinearityLayer\n",
    "from lasagne.layers.dnn import Conv2DDNNLayer as ConvLayer\n",
    "from lasagne.layers import batch_norm, get_all_params, get_output, reshape, concat, dropout\n",
    "from lasagne.nonlinearities import rectify, leaky_rectify, elu, tanh, softmax\n",
    "\n",
    "from tqdm import tqdm\n",
    "from IPython.display import clear_output"
   ]
  },
  {
   "cell_type": "markdown",
   "metadata": {
    "deletable": true,
    "editable": true
   },
   "source": [
    "# Helper function definitions"
   ]
  },
  {
   "cell_type": "markdown",
   "metadata": {
    "deletable": true,
    "editable": true
   },
   "source": [
    "Downsample image, and crop it, showing only the most useful part of image. "
   ]
  },
  {
   "cell_type": "code",
   "execution_count": 6,
   "metadata": {
    "collapsed": false,
    "deletable": true,
    "editable": true
   },
   "outputs": [],
   "source": [
    "def make_env():\n",
    "    env = gym.make(\"KungFuMaster-v0\")\n",
    "    env = (PreprocessImage(env, height=64, width=64, grayscale=True, crop=lambda img: img[60:-30, 7:]))\n",
    "    return env "
   ]
  },
  {
   "cell_type": "markdown",
   "metadata": {
    "deletable": true,
    "editable": true
   },
   "source": [
    "Function for tracking performance while training "
   ]
  },
  {
   "cell_type": "code",
   "execution_count": 7,
   "metadata": {
    "collapsed": true,
    "deletable": true,
    "editable": true
   },
   "outputs": [],
   "source": [
    "def eval_and_plot(rewards, epoch_counter, pool):\n",
    "    rewards[epoch_counter] = np.mean(pool.evaluate(n_games=N_EVAL_GAMES,record_video=False, verbose=False))\n",
    "    info_string = \"Epoch={}, mean_score={:.2f}\"\n",
    "    info_string = info_string.format(epoch_counter, np.mean(rewards[epoch_counter]))\n",
    "    display.clear_output(wait=True)\n",
    "    plt.figure(figsize=(8, 5))\n",
    "    plt.plot([rewards[i] for i in sorted(rewards.keys())])\n",
    "    plt.grid()\n",
    "    plt.ylabel(\"Mean reward over evaluation games\")\n",
    "    plt.title(info_string)\n",
    "    plt.show()"
   ]
  },
  {
   "cell_type": "markdown",
   "metadata": {
    "deletable": true,
    "editable": true
   },
   "source": [
    "# Experiment setup\n",
    "Here we basically just load the game and check that it works"
   ]
  },
  {
   "cell_type": "code",
   "execution_count": 8,
   "metadata": {
    "collapsed": false,
    "deletable": true,
    "editable": true
   },
   "outputs": [
    {
     "name": "stderr",
     "output_type": "stream",
     "text": [
      "[2017-04-18 20:20:42,124] Making new env: KungFuMaster-v0\n"
     ]
    }
   ],
   "source": [
    "env = gym.make('KungFuMaster-v0')"
   ]
  },
  {
   "cell_type": "code",
   "execution_count": 9,
   "metadata": {
    "collapsed": false,
    "deletable": true,
    "editable": true
   },
   "outputs": [],
   "source": [
    "print(env.env.get_action_meanings())"
   ]
  },
  {
   "cell_type": "code",
   "execution_count": 10,
   "metadata": {
    "collapsed": false,
    "deletable": true,
    "editable": true
   },
   "outputs": [
    {
     "data": {
      "text/plain": [
       "<matplotlib.image.AxesImage at 0x7efd87e16f50>"
      ]
     },
     "execution_count": 10,
     "metadata": {},
     "output_type": "execute_result"
    },
    {
     "data": {
      "image/png": "[encoded data removed]",
      "text/plain": [
       "<matplotlib.figure.Figure at 0x7efd883a37d0>"
      ]
     },
     "metadata": {},
     "output_type": "display_data"
    }
   ],
   "source": [
    "plt.imshow(env.reset())"
   ]
  },
  {
   "cell_type": "code",
   "execution_count": 11,
   "metadata": {
    "collapsed": false,
    "deletable": true,
    "editable": true
   },
   "outputs": [
    {
     "name": "stderr",
     "output_type": "stream",
     "text": [
      "[2017-04-18 20:20:42,485] Making new env: KungFuMaster-v0\n"
     ]
    },
    {
     "data": {
      "text/plain": [
       "<matplotlib.image.AxesImage at 0x7efd7b4aca90>"
      ]
     },
     "execution_count": 11,
     "metadata": {},
     "output_type": "execute_result"
    },
    {
     "data": {
      "image/png": "[encoded data removed]",
      "text/plain": [
       "<matplotlib.figure.Figure at 0x7efd88387b90>"
      ]
     },
     "metadata": {},
     "output_type": "display_data"
    }
   ],
   "source": [
    "env = make_env()\n",
    "plt.imshow(np.squeeze(env.reset()), cmap='gray')"
   ]
  },
  {
   "cell_type": "markdown",
   "metadata": {
    "deletable": true,
    "editable": true
   },
   "source": [
    "# Global constants definition"
   ]
  },
  {
   "cell_type": "markdown",
   "metadata": {
    "deletable": true,
    "editable": true
   },
   "source": [
    "All hyperparameters (except number of layers and neurons) are declared here as upper case letters along with global varaibles."
   ]
  },
  {
   "cell_type": "code",
   "execution_count": 12,
   "metadata": {
    "collapsed": true,
    "deletable": true,
    "editable": true
   },
   "outputs": [],
   "source": [
    "N_ACTIONS = env.action_space.n\n",
    "OBS_SHAPE = env.observation_space.shape \n",
    "OBS_CHANNELS, OBS_HEIGHT, OBS_WIDTH = OBS_SHAPE\n",
    "\n",
    "# These 4 constanst were shown to lead to nearly state of the art on kung-fu master game\n",
    "N_SIMULTANEOUS_GAMES = 16  # this is also known as number of agents in exp_replay_pool\n",
    "SEQ_LENGTH = 30\n",
    "\n",
    "N_EVAL_GAMES = 2\n",
    "\n",
    "N_FRAMES_IN_BUFFER = 4 # number of consequent frames to feed in CNN"
   ]
  },
  {
   "cell_type": "markdown",
   "metadata": {
    "deletable": true,
    "editable": true
   },
   "source": [
    "# A2C with memory"
   ]
  },
  {
   "cell_type": "code",
   "execution_count": 13,
   "metadata": {
    "collapsed": false,
    "deletable": true,
    "editable": true
   },
   "outputs": [],
   "source": [
    "observation_layer = InputLayer((None,) + OBS_SHAPE)\n",
    "#prev_wnd = InputLayer([None, N_FRAMES_IN_BUFFER, OBS_CHANNELS, OBS_HEIGHT, OBS_WIDTH])\n",
    "#new_wnd = WindowAugmentation(observation_layer, prev_wnd)\n",
    "#wnd_reshape = reshape(new_wnd, [-1,  N_FRAMES_IN_BUFFER * OBS_CHANNELS, OBS_HEIGHT, OBS_WIDTH])\n",
    "wnd_reshape = observation_layer"
   ]
  },
  {
   "cell_type": "code",
   "execution_count": 14,
   "metadata": {
    "collapsed": false,
    "deletable": true,
    "editable": true
   },
   "outputs": [],
   "source": [
    "# TYPE YOUR CODE HERE\n",
    "# provide the main body of the network : first three convolutional layers and dense one on top \n",
    "# you may want to change nonlinearity - feel free to do this \n",
    "# note that we have changed filter size here because of reduced image width and height compared to those in papers\n",
    "conv1 = ConvLayer(wnd_reshape, num_filters=50, filter_size=5, stride=2, nonlinearity=elu)\n",
    "conv2 = ConvLayer(conv1, num_filters=80, filter_size=5, stride=2, nonlinearity=elu)\n",
    "conv3 = ConvLayer(conv2, num_filters=80, filter_size=3, stride=1, nonlinearity=elu)\n",
    "dense = DenseLayer(conv3, num_units=512, nonlinearity=elu)"
   ]
  },
  {
   "cell_type": "code",
   "execution_count": 15,
   "metadata": {
    "collapsed": false,
    "deletable": true,
    "editable": true
   },
   "outputs": [],
   "source": [
    "# YOUR CODE HERE\n",
    "# define 256 neuron LSTM cell:\n",
    "# - define two input layers each of n_lstm_cells (maybe 256 is a good baseline) neurons \n",
    "# - feed into `LSTMcell` this two layers and \n",
    "#   input layer (last `Dense` in case of A2C+LSTM) as additional third parameter\n",
    "\n",
    "prev_gru_out = InputLayer((None, 256))\n",
    "new_gru_out = GRUCell(prev_gru_out, dense)\n",
    "\n",
    "prev_gru_out2 = InputLayer((None, 256))\n",
    "new_gru_out2 = GRUCell(prev_gru_out2, new_gru_out)\n",
    "\n",
    "prev_cell, prev_out = InputLayer((None, 256)), InputLayer((None, 256))\n",
    "new_cell, new_out = LSTMCell(prev_cell, prev_out, new_gru_out2)"
   ]
  },
  {
   "cell_type": "code",
   "execution_count": 16,
   "metadata": {
    "collapsed": true,
    "deletable": true,
    "editable": true
   },
   "outputs": [],
   "source": [
    "neck_layer = concat([dense, new_out]) # network neck "
   ]
  },
  {
   "cell_type": "code",
   "execution_count": 17,
   "metadata": {
    "collapsed": false,
    "deletable": true,
    "editable": true
   },
   "outputs": [],
   "source": [
    "# YOUR CODE HERE \n",
    "# define actors head as \n",
    "# - logits_layer – dense(neck) with nonlinearity=None \n",
    "# - policy_layer – softmax over logits_layer\n",
    "logits_layer = DenseLayer(neck_layer, num_units=N_ACTIONS, nonlinearity=None)\n",
    "policy_layer = NonlinearityLayer(logits_layer, nonlinearity=softmax)\n",
    "action_layer = ProbabilisticResolver(policy_layer) "
   ]
  },
  {
   "cell_type": "code",
   "execution_count": 18,
   "metadata": {
    "collapsed": false,
    "deletable": true,
    "editable": true
   },
   "outputs": [],
   "source": [
    "# critic head\n",
    "V_layer = DenseLayer(neck_layer, 1, nonlinearity=None)\n",
    "\n",
    "target_net = TargetNetwork(V_layer)\n",
    "target_V_layer = target_net.output_layers"
   ]
  },
  {
   "cell_type": "code",
   "execution_count": 19,
   "metadata": {
    "collapsed": false,
    "deletable": true,
    "editable": true
   },
   "outputs": [],
   "source": [
    "# YOUR CODE HERE\n",
    "# `observation_layers` is input layer to NN, as usual\n",
    "# `policy_estimators` should include 1) logits_layer and 2) V_layer \n",
    "# `agent_states` is a dictionary of {new_value: old_value}. You should bother to update \n",
    "#    a) prev window (input buffer, prev_wnd)  b) previous LSTM cell state  c) output of LSTM cell \n",
    "# `action_layers` is action_layer, as usual : ) \n",
    "agent = Agent(observation_layers=observation_layer,\n",
    "             policy_estimators=[logits_layer, V_layer, target_V_layer],\n",
    "             agent_states={new_cell: prev_cell, new_out: prev_out, new_gru_out: prev_gru_out, new_gru_out2: prev_gru_out2},\n",
    "             action_layers=action_layer)"
   ]
  },
  {
   "cell_type": "code",
   "execution_count": 20,
   "metadata": {
    "collapsed": false,
    "deletable": true,
    "editable": true
   },
   "outputs": [
    {
     "name": "stderr",
     "output_type": "stream",
     "text": [
      "[2017-04-18 20:20:48,437] Making new env: KungFuMaster-v0\n",
      "[2017-04-18 20:20:48,484] Making new env: KungFuMaster-v0\n",
      "[2017-04-18 20:20:48,538] Making new env: KungFuMaster-v0\n",
      "[2017-04-18 20:20:48,589] Making new env: KungFuMaster-v0\n",
      "[2017-04-18 20:20:48,648] Making new env: KungFuMaster-v0\n",
      "[2017-04-18 20:20:48,699] Making new env: KungFuMaster-v0\n",
      "[2017-04-18 20:20:48,759] Making new env: KungFuMaster-v0\n",
      "[2017-04-18 20:20:48,809] Making new env: KungFuMaster-v0\n",
      "[2017-04-18 20:20:48,870] Making new env: KungFuMaster-v0\n",
      "[2017-04-18 20:20:48,918] Making new env: KungFuMaster-v0\n",
      "[2017-04-18 20:20:48,963] Making new env: KungFuMaster-v0\n",
      "[2017-04-18 20:20:49,012] Making new env: KungFuMaster-v0\n",
      "[2017-04-18 20:20:49,054] Making new env: KungFuMaster-v0\n",
      "[2017-04-18 20:20:49,093] Making new env: KungFuMaster-v0\n",
      "[2017-04-18 20:20:49,137] Making new env: KungFuMaster-v0\n",
      "[2017-04-18 20:20:49,178] Making new env: KungFuMaster-v0\n"
     ]
    }
   ],
   "source": [
    "# may need to adjust (increasing N_SIMULTANEOUS_GAMES is usually a good idea)\n",
    "pool = EnvPool(agent, make_env, n_games=N_SIMULTANEOUS_GAMES) \n",
    "replay = pool.experience_replay"
   ]
  },
  {
   "cell_type": "code",
   "execution_count": 21,
   "metadata": {
    "collapsed": false,
    "deletable": true,
    "editable": true
   },
   "outputs": [],
   "source": [
    "_, _, _, action_seq, (logits_seq, V_seq, target_V_seq) = agent.get_sessions( \n",
    "    replay, \n",
    "    session_length=SEQ_LENGTH, \n",
    "    experience_replay=True\n",
    ")"
   ]
  },
  {
   "cell_type": "code",
   "execution_count": 22,
   "metadata": {
    "collapsed": false,
    "deletable": true,
    "editable": true
   },
   "outputs": [],
   "source": [
    "# compute pi(a|s) and log(pi(a|s)) manually [use logsoftmax]\n",
    "# we can't guarantee that theano optimizes logsoftmax automatically since it's still in dev \n",
    "# for more info see (https://github.com/Theano/Theano/issues/2944 of 2015 year)\n",
    "\n",
    "# logits_seq.shape is (batch_size, SEQ_LENGTH, N_ACTIONS)\n",
    "logits_flat = logits_seq.reshape([-1, N_ACTIONS])\n",
    "policy_seq = T.nnet.softmax(logits_flat).reshape(logits_seq.shape)\n",
    "logpolicy_seq = T.nnet.logsoftmax(logits_flat).reshape(logits_seq.shape)"
   ]
  },
  {
   "cell_type": "code",
   "execution_count": 23,
   "metadata": {
    "collapsed": false,
    "deletable": true,
    "editable": true
   },
   "outputs": [],
   "source": [
    "# get policy gradient\n",
    "from agentnet.learning import a2c\n",
    "elwise_actor_loss, elwise_critic_loss = a2c.get_elementwise_objective(\n",
    "    policy=logpolicy_seq,\n",
    "    treat_policy_as_logpolicy=True,\n",
    "    state_values=V_seq[:,:,0],\n",
    "    state_values_target=target_V_seq[:,:,0], \n",
    "    actions=replay.actions[0],\n",
    "    rewards=replay.rewards / 10, \n",
    "    is_alive=replay.is_alive,\n",
    "    gamma_or_gammas=0.99,\n",
    "    n_steps=None,\n",
    "    return_separate=True,\n",
    "    \n",
    ")\n",
    "        \n",
    "# add losses with magic numbers \n",
    "# (you can change them more or less harmlessly, this usually just makes learning faster/slower)\n",
    "# actor and critic multipliers were selected guided by prior knowledge  \n",
    "# entropy / regularization multipliers were tuned with logscale gridsearch\n",
    "# NB: regularization affects exploration\n",
    "reg_logits = T.mean(logits_seq ** 2)\n",
    "reg_entropy = T.mean(T.sum(policy_seq * logpolicy_seq, axis=-1))\n",
    "loss = 0.1 * elwise_actor_loss.mean() + 0.25 * elwise_critic_loss.mean() + 1e-3 * reg_entropy #+ 1e-3 * reg_logits"
   ]
  },
  {
   "cell_type": "code",
   "execution_count": null,
   "metadata": {
    "collapsed": false,
    "deletable": true,
    "editable": true
   },
   "outputs": [],
   "source": [
    "# Compute weight updates, clip by norm for stability \n",
    "weights = lasagne.layers.get_all_params([V_layer, policy_layer], trainable=True)\n",
    "grads = T.grad(loss, weights)\n",
    "grads = lasagne.updates.total_norm_constraint(grads, 10)\n",
    "updates = lasagne.updates.adam(grads, weights, learning_rate=0.0001)\n",
    "train_step = theano.function([], loss, updates=updates)"
   ]
  },
  {
   "cell_type": "markdown",
   "metadata": {
    "deletable": true,
    "editable": true
   },
   "source": [
    "# Train "
   ]
  },
  {
   "cell_type": "code",
   "execution_count": null,
   "metadata": {
    "collapsed": false,
    "deletable": true,
    "editable": true
   },
   "outputs": [
    {
     "name": "stdout",
     "output_type": "stream",
     "text": [
      "Current score(mean over 2) = 48500.000\n"
     ]
    },
    {
     "data": {
      "image/png": "[encoded data removed]",
      "text/plain": [
       "<matplotlib.figure.Figure at 0x7efca9721f10>"
      ]
     },
     "metadata": {},
     "output_type": "display_data"
    },
    {
     "name": "stderr",
     "output_type": "stream",
     "text": [
      "100%|██████████| 30000/30000 [16:23:02<00:00,  2.35s/it]  \n"
     ]
    }
   ],
   "source": [
    "N_EPOCH = 30000\n",
    "\n",
    "epoch_counter = 0\n",
    "rewards = {}\n",
    "for i in tqdm(range(N_EPOCH)):  \n",
    "    \n",
    "    pool.update(SEQ_LENGTH)\n",
    "    loss = train_step()\n",
    "    target_net.load_weights(0.01)\n",
    "\n",
    "    if epoch_counter % 200 == 0:\n",
    "        rewards[epoch_counter] = np.mean(pool.evaluate(record_video=False, \n",
    "                                                       n_games=N_EVAL_GAMES,\n",
    "                                                       verbose=False))\n",
    "        clear_output(True)\n",
    "        print(\"Current score(mean over %i) = %.3f\"%(N_EVAL_GAMES, np.mean(rewards[epoch_counter])))\n",
    "        plt.plot(*zip(*sorted(rewards.items(),key=lambda t: t[0])))\n",
    "        plt.grid()\n",
    "        plt.show()\n",
    "    \n",
    "    epoch_counter += 1"
   ]
  },
  {
   "cell_type": "code",
   "execution_count": null,
   "metadata": {
    "collapsed": false,
    "deletable": true,
    "editable": true
   },
   "outputs": [
    {
     "name": "stderr",
     "output_type": "stream",
     "text": [
      "[2017-04-19 13:01:49,738] Making new env: KungFuMaster-v0\n",
      "[2017-04-19 13:01:49,790] Clearing 2 monitor files from previous run (because force=True was provided)\n",
      "[2017-04-19 13:16:53,619] Finished writing results. You can upload them to the scoreboard via gym.upload('/home/common/golovanov/records')\n"
     ]
    },
    {
     "data": {
      "text/plain": [
       "41800.0"
      ]
     },
     "execution_count": 26,
     "metadata": {},
     "output_type": "execute_result"
    }
   ],
   "source": [
    "np.mean(pool.evaluate(record_video=False, n_games=10, verbose=False))"
   ]
  },
  {
   "cell_type": "code",
   "execution_count": null,
   "metadata": {
    "collapsed": true
   },
   "outputs": [],
   "source": []
  }
 ],
 "metadata": {
  "anaconda-cloud": {},
  "kernelspec": {
   "display_name": "Python 2",
   "language": "python",
   "name": "python2"
  },
  "language_info": {
   "codemirror_mode": {
    "name": "ipython",
    "version": 2
   },
   "file_extension": ".py",
   "mimetype": "text/x-python",
   "name": "python",
   "nbconvert_exporter": "python",
   "pygments_lexer": "ipython2",
   "version": "2.7.13"
  }
 },
 "nbformat": 4,
 "nbformat_minor": 0
}
